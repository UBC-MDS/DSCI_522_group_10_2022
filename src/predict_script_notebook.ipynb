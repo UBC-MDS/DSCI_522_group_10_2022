{
 "cells": [
  {
   "cell_type": "markdown",
   "metadata": {},
   "source": [
    "## Imports"
   ]
  },
  {
   "cell_type": "code",
   "execution_count": 31,
   "metadata": {},
   "outputs": [],
   "source": [
    "import pandas as pd\n",
    "import numpy as np\n",
    "import altair as alt\n",
    "from ast import literal_eval\n",
    "\n",
    "from sklearn.model_selection import (\n",
    "    GridSearchCV,\n",
    "    RandomizedSearchCV,\n",
    "    cross_val_score,\n",
    "    cross_validate,\n",
    "    train_test_split,\n",
    ")\n",
    "\n",
    "from sklearn.preprocessing import OneHotEncoder, StandardScaler, MultiLabelBinarizer\n",
    "from sklearn.feature_extraction.text import CountVectorizer\n",
    "\n",
    "from sklearn.compose import ColumnTransformer, make_column_transformer\n",
    "from sklearn.pipeline import Pipeline, make_pipeline\n",
    "\n",
    "from sklearn.dummy import DummyRegressor\n",
    "from sklearn.linear_model import Ridge, RidgeCV\n",
    "from sklearn.ensemble import RandomForestRegressor\n",
    "from sklearn.svm import SVC\n",
    "\n",
    "from sklearn.metrics import make_scorer, mean_squared_error, r2_score\n",
    "\n",
    "from sklearn.base import TransformerMixin\n"
   ]
  },
  {
   "cell_type": "code",
   "execution_count": 43,
   "metadata": {},
   "outputs": [
    {
     "data": {
      "text/plain": [
       "DataTransformerRegistry.enable('data_server')"
      ]
     },
     "execution_count": 43,
     "metadata": {},
     "output_type": "execute_result"
    }
   ],
   "source": [
    "alt.renderers.enable('mimetype')\n",
    "alt.data_transformers.enable('data_server')"
   ]
  },
  {
   "cell_type": "code",
   "execution_count": 2,
   "metadata": {},
   "outputs": [],
   "source": [
    "# Solution adapted from StackOverFlow solution: https://tinyurl.com/59hmeesh\n",
    "class MyMultiLabelBinarizer(TransformerMixin):\n",
    "    def __init__(self, *args, **kwargs):\n",
    "        self.encoder = MultiLabelBinarizer(*args, **kwargs)\n",
    "\n",
    "    def fit(self, x, y=0):\n",
    "        self.encoder.fit(x)\n",
    "        return self\n",
    "\n",
    "    def transform(self, x, y=0):\n",
    "        return self.encoder.transform(x)"
   ]
  },
  {
   "cell_type": "markdown",
   "metadata": {},
   "source": [
    "## Reading and Splitting Model Data"
   ]
  },
  {
   "cell_type": "code",
   "execution_count": 3,
   "metadata": {},
   "outputs": [],
   "source": [
    "train_df = pd.read_csv(\"../data/processed/training_split.csv\")\n",
    "test_df = pd.read_csv(\"../data/processed/testing_split.csv\")\n",
    "\n",
    "categorical_list_features = [\"boardgamecategory\", \"boardgamemechanic\", \"boardgamefamily\", \"boardgamedesigner\", \"boardgameartist\", \"boardgamepublisher\"]\n",
    "# for feat in categorical_list_features:\n",
    "#     train_df[feat] = train_df[feat].apply(literal_eval)\n",
    "#     test_df[feat] = test_df[feat].apply(literal_eval)\n",
    "#     train_df[feat] = train_df[feat].apply(lambda x: set(x))\n",
    "#     test_df[feat] = test_df[feat].apply(lambda x: set(x))\n",
    "\n",
    "X_train, y_train = train_df.drop(columns=\"average\"), train_df[\"average\"]\n",
    "X_test, y_test = test_df.drop(columns=\"average\"), test_df[\"average\"]"
   ]
  },
  {
   "cell_type": "markdown",
   "metadata": {},
   "source": [
    "## Setting Up the Column Transformers"
   ]
  },
  {
   "cell_type": "code",
   "execution_count": 4,
   "metadata": {},
   "outputs": [],
   "source": [
    "numerical_features = [\"yearpublished\", \"minplayers\", \"maxplayers\", \"playingtime\", \"minplaytime\", \"maxplaytime\", \"minage\"]\n",
    "text_feature = \"description\"\n",
    "categorical_features = [\"boardgamecategory\", \"boardgamemechanic\", \"boardgamefamily\", \"boardgamedesigner\", \"boardgameartist\", \"boardgamepublisher\"]\n",
    "\n",
    "preprocessor = make_column_transformer(\n",
    "    (StandardScaler(), numerical_features),\n",
    "    (CountVectorizer(stop_words=\"english\", max_features=1000), text_feature),\n",
    "    (OneHotEncoder(handle_unknown=\"ignore\"), categorical_features)\n",
    ")"
   ]
  },
  {
   "cell_type": "markdown",
   "metadata": {},
   "source": [
    "## Define Scoring Methods and Results"
   ]
  },
  {
   "cell_type": "code",
   "execution_count": 5,
   "metadata": {},
   "outputs": [],
   "source": [
    "scoring_dict = {\n",
    "    \"r2\": \"r2\",\n",
    "    \"MAPE\": \"neg_mean_absolute_percentage_error\",\n",
    "    \"neg_rmse\": \"neg_root_mean_squared_error\",\n",
    "    \"neg_mse\": \"neg_mean_squared_error\",\n",
    "}\n"
   ]
  },
  {
   "cell_type": "markdown",
   "metadata": {},
   "source": [
    "## Trying Dummy Regressor Baseline"
   ]
  },
  {
   "cell_type": "code",
   "execution_count": 6,
   "metadata": {},
   "outputs": [
    {
     "data": {
      "text/html": [
       "<div>\n",
       "<style scoped>\n",
       "    .dataframe tbody tr th:only-of-type {\n",
       "        vertical-align: middle;\n",
       "    }\n",
       "\n",
       "    .dataframe tbody tr th {\n",
       "        vertical-align: top;\n",
       "    }\n",
       "\n",
       "    .dataframe thead th {\n",
       "        text-align: right;\n",
       "    }\n",
       "</style>\n",
       "<table border=\"1\" class=\"dataframe\">\n",
       "  <thead>\n",
       "    <tr style=\"text-align: right;\">\n",
       "      <th></th>\n",
       "      <th>mean</th>\n",
       "      <th>std</th>\n",
       "    </tr>\n",
       "  </thead>\n",
       "  <tbody>\n",
       "    <tr>\n",
       "      <th>fit_time</th>\n",
       "      <td>0.002</td>\n",
       "      <td>0.001</td>\n",
       "    </tr>\n",
       "    <tr>\n",
       "      <th>score_time</th>\n",
       "      <td>0.001</td>\n",
       "      <td>0.001</td>\n",
       "    </tr>\n",
       "    <tr>\n",
       "      <th>test_r2</th>\n",
       "      <td>-0.001</td>\n",
       "      <td>0.001</td>\n",
       "    </tr>\n",
       "    <tr>\n",
       "      <th>train_r2</th>\n",
       "      <td>0.000</td>\n",
       "      <td>0.000</td>\n",
       "    </tr>\n",
       "    <tr>\n",
       "      <th>test_MAPE</th>\n",
       "      <td>-0.102</td>\n",
       "      <td>0.003</td>\n",
       "    </tr>\n",
       "    <tr>\n",
       "      <th>train_MAPE</th>\n",
       "      <td>-0.102</td>\n",
       "      <td>0.001</td>\n",
       "    </tr>\n",
       "    <tr>\n",
       "      <th>test_neg_rmse</th>\n",
       "      <td>-0.826</td>\n",
       "      <td>0.019</td>\n",
       "    </tr>\n",
       "    <tr>\n",
       "      <th>train_neg_rmse</th>\n",
       "      <td>-0.827</td>\n",
       "      <td>0.005</td>\n",
       "    </tr>\n",
       "    <tr>\n",
       "      <th>test_neg_mse</th>\n",
       "      <td>-0.683</td>\n",
       "      <td>0.032</td>\n",
       "    </tr>\n",
       "    <tr>\n",
       "      <th>train_neg_mse</th>\n",
       "      <td>-0.683</td>\n",
       "      <td>0.008</td>\n",
       "    </tr>\n",
       "  </tbody>\n",
       "</table>\n",
       "</div>"
      ],
      "text/plain": [
       "                 mean    std\n",
       "fit_time        0.002  0.001\n",
       "score_time      0.001  0.001\n",
       "test_r2        -0.001  0.001\n",
       "train_r2        0.000  0.000\n",
       "test_MAPE      -0.102  0.003\n",
       "train_MAPE     -0.102  0.001\n",
       "test_neg_rmse  -0.826  0.019\n",
       "train_neg_rmse -0.827  0.005\n",
       "test_neg_mse   -0.683  0.032\n",
       "train_neg_mse  -0.683  0.008"
      ]
     },
     "execution_count": 6,
     "metadata": {},
     "output_type": "execute_result"
    }
   ],
   "source": [
    "cross_val_results = {}\n",
    "dummy_regressor = DummyRegressor()\n",
    "cross_val_results['dummy_regressor'] = pd.DataFrame(cross_validate(dummy_regressor, X_train, y_train, return_train_score = True, scoring=scoring_dict)).agg(['mean', 'std']).round(3).T\n",
    "cross_val_results['dummy_regressor']"
   ]
  },
  {
   "cell_type": "markdown",
   "metadata": {},
   "source": [
    "## Ridge Model Optimization"
   ]
  },
  {
   "cell_type": "code",
   "execution_count": 7,
   "metadata": {},
   "outputs": [
    {
     "data": {
      "text/plain": [
       "0.26555599794366336"
      ]
     },
     "execution_count": 7,
     "metadata": {},
     "output_type": "execute_result"
    }
   ],
   "source": [
    "pipe_ridge = make_pipeline(\n",
    "    preprocessor,\n",
    "    Ridge()\n",
    ")\n",
    "\n",
    "param_dist_ridge = {\n",
    "    \"ridge__alpha\": 10.0 ** np.arange(-6, 6, 1)\n",
    "}\n",
    "\n",
    "ridge_search = RandomizedSearchCV(\n",
    "    pipe_ridge, param_dist_ridge, n_iter=12, n_jobs=-1, return_train_score=True\n",
    ")\n",
    "\n",
    "ridge_search.fit(X_train, y_train)\n",
    "ridge_search.best_score_"
   ]
  },
  {
   "cell_type": "markdown",
   "metadata": {},
   "source": [
    "## Defining New Optimized Ridge Pipe"
   ]
  },
  {
   "cell_type": "code",
   "execution_count": 8,
   "metadata": {},
   "outputs": [],
   "source": [
    "pipe_ridge_opt = make_pipeline(\n",
    "    preprocessor,\n",
    "    Ridge(alpha=ridge_search.best_params_[\"ridge__alpha\"])\n",
    ")"
   ]
  },
  {
   "cell_type": "markdown",
   "metadata": {},
   "source": [
    "## Ridge Model Cross-Validation"
   ]
  },
  {
   "cell_type": "code",
   "execution_count": 9,
   "metadata": {},
   "outputs": [
    {
     "data": {
      "text/html": [
       "<div>\n",
       "<style scoped>\n",
       "    .dataframe tbody tr th:only-of-type {\n",
       "        vertical-align: middle;\n",
       "    }\n",
       "\n",
       "    .dataframe tbody tr th {\n",
       "        vertical-align: top;\n",
       "    }\n",
       "\n",
       "    .dataframe thead th {\n",
       "        text-align: right;\n",
       "    }\n",
       "</style>\n",
       "<table border=\"1\" class=\"dataframe\">\n",
       "  <thead>\n",
       "    <tr style=\"text-align: right;\">\n",
       "      <th></th>\n",
       "      <th>mean</th>\n",
       "      <th>std</th>\n",
       "    </tr>\n",
       "  </thead>\n",
       "  <tbody>\n",
       "    <tr>\n",
       "      <th>fit_time</th>\n",
       "      <td>0.870</td>\n",
       "      <td>0.009</td>\n",
       "    </tr>\n",
       "    <tr>\n",
       "      <th>score_time</th>\n",
       "      <td>0.213</td>\n",
       "      <td>0.005</td>\n",
       "    </tr>\n",
       "    <tr>\n",
       "      <th>test_r2</th>\n",
       "      <td>0.266</td>\n",
       "      <td>0.027</td>\n",
       "    </tr>\n",
       "    <tr>\n",
       "      <th>train_r2</th>\n",
       "      <td>0.512</td>\n",
       "      <td>0.005</td>\n",
       "    </tr>\n",
       "    <tr>\n",
       "      <th>test_MAPE</th>\n",
       "      <td>-0.086</td>\n",
       "      <td>0.003</td>\n",
       "    </tr>\n",
       "    <tr>\n",
       "      <th>train_MAPE</th>\n",
       "      <td>-0.070</td>\n",
       "      <td>0.001</td>\n",
       "    </tr>\n",
       "    <tr>\n",
       "      <th>test_neg_rmse</th>\n",
       "      <td>-0.708</td>\n",
       "      <td>0.021</td>\n",
       "    </tr>\n",
       "    <tr>\n",
       "      <th>train_neg_rmse</th>\n",
       "      <td>-0.577</td>\n",
       "      <td>0.005</td>\n",
       "    </tr>\n",
       "    <tr>\n",
       "      <th>test_neg_mse</th>\n",
       "      <td>-0.501</td>\n",
       "      <td>0.030</td>\n",
       "    </tr>\n",
       "    <tr>\n",
       "      <th>train_neg_mse</th>\n",
       "      <td>-0.333</td>\n",
       "      <td>0.005</td>\n",
       "    </tr>\n",
       "  </tbody>\n",
       "</table>\n",
       "</div>"
      ],
      "text/plain": [
       "                 mean    std\n",
       "fit_time        0.870  0.009\n",
       "score_time      0.213  0.005\n",
       "test_r2         0.266  0.027\n",
       "train_r2        0.512  0.005\n",
       "test_MAPE      -0.086  0.003\n",
       "train_MAPE     -0.070  0.001\n",
       "test_neg_rmse  -0.708  0.021\n",
       "train_neg_rmse -0.577  0.005\n",
       "test_neg_mse   -0.501  0.030\n",
       "train_neg_mse  -0.333  0.005"
      ]
     },
     "execution_count": 9,
     "metadata": {},
     "output_type": "execute_result"
    }
   ],
   "source": [
    "cross_val_results[\"ridge\"] = pd.DataFrame(cross_validate(pipe_ridge_opt, X_train, y_train, return_train_score=True, scoring=scoring_dict)).agg(['mean', 'std']).round(3).T\n",
    "cross_val_results[\"ridge\"]"
   ]
  },
  {
   "cell_type": "markdown",
   "metadata": {},
   "source": [
    "## Testing SVC Model"
   ]
  },
  {
   "cell_type": "code",
   "execution_count": 10,
   "metadata": {},
   "outputs": [],
   "source": [
    "# pipe_svc = make_pipeline(\n",
    "#     preprocessor,\n",
    "#     SVC()\n",
    "# )\n",
    "\n",
    "# param_dist_svc = {\n",
    "#     \"svc__gamma\": np.round(np.logspace(1, 2, 6), 1)\n",
    "# }\n",
    "\n",
    "# svc_search = RandomizedSearchCV(\n",
    "#     pipe_svc, param_dist_ridge, n_iter=10, n_jobs=-1, return_train_score=True\n",
    "# )\n",
    "\n",
    "# svc_search.fit(X_train.iloc[0:1000], y_train.iloc[0:1000])"
   ]
  },
  {
   "cell_type": "markdown",
   "metadata": {},
   "source": [
    "## Testing Random Forest Regressor Model"
   ]
  },
  {
   "cell_type": "code",
   "execution_count": 11,
   "metadata": {},
   "outputs": [
    {
     "name": "stderr",
     "output_type": "stream",
     "text": [
      "c:\\Users\\vikra\\.conda\\envs\\573\\lib\\site-packages\\sklearn\\ensemble\\_forest.py:416: FutureWarning: `max_features='auto'` has been deprecated in 1.1 and will be removed in 1.3. To keep the past behaviour, explicitly set `max_features=1.0` or remove this parameter as it is also the default value for RandomForestRegressors and ExtraTreesRegressors.\n",
      "  warn(\n"
     ]
    },
    {
     "data": {
      "text/plain": [
       "0.38716632600811396"
      ]
     },
     "execution_count": 11,
     "metadata": {},
     "output_type": "execute_result"
    }
   ],
   "source": [
    "pipe_rfr = make_pipeline(\n",
    "    preprocessor,\n",
    "    RandomForestRegressor(n_jobs=-1)\n",
    ")\n",
    "\n",
    "param_dist_rfr = {\n",
    "    \"randomforestregressor__max_depth\": np.arange(20, 100, 2),\n",
    "    \"randomforestregressor__max_features\": ['auto', 'sqrt'],\n",
    "    \"randomforestregressor__bootstrap\": [True, False],\n",
    "    \"randomforestregressor__min_samples_leaf\": [1, 2, 4],\n",
    "    \"randomforestregressor__min_samples_split\": [2, 5, 10]\n",
    "}\n",
    "\n",
    "rfr_search = RandomizedSearchCV(\n",
    "    pipe_rfr, param_dist_rfr, n_iter=20, n_jobs=-1, return_train_score=True\n",
    ")\n",
    "\n",
    "rfr_search.fit(X_train.iloc[0:2000], y_train.iloc[0:2000])\n",
    "rfr_search.best_score_"
   ]
  },
  {
   "cell_type": "code",
   "execution_count": 12,
   "metadata": {},
   "outputs": [],
   "source": [
    "pipe_rfr_opt = make_pipeline(\n",
    "    preprocessor,\n",
    "    RandomForestRegressor(max_depth=rfr_search.best_params_[\"randomforestregressor__max_depth\"],\n",
    "                          bootstrap=rfr_search.best_params_[\"randomforestregressor__bootstrap\"],\n",
    "                          min_samples_leaf=rfr_search.best_params_[\"randomforestregressor__min_samples_leaf\"],\n",
    "                          min_samples_split=rfr_search.best_params_[\"randomforestregressor__min_samples_split\"])\n",
    ")"
   ]
  },
  {
   "cell_type": "code",
   "execution_count": 13,
   "metadata": {},
   "outputs": [
    {
     "data": {
      "text/html": [
       "<div>\n",
       "<style scoped>\n",
       "    .dataframe tbody tr th:only-of-type {\n",
       "        vertical-align: middle;\n",
       "    }\n",
       "\n",
       "    .dataframe tbody tr th {\n",
       "        vertical-align: top;\n",
       "    }\n",
       "\n",
       "    .dataframe thead th {\n",
       "        text-align: right;\n",
       "    }\n",
       "</style>\n",
       "<table border=\"1\" class=\"dataframe\">\n",
       "  <thead>\n",
       "    <tr style=\"text-align: right;\">\n",
       "      <th></th>\n",
       "      <th>mean</th>\n",
       "      <th>std</th>\n",
       "    </tr>\n",
       "  </thead>\n",
       "  <tbody>\n",
       "    <tr>\n",
       "      <th>fit_time</th>\n",
       "      <td>16.186</td>\n",
       "      <td>0.302</td>\n",
       "    </tr>\n",
       "    <tr>\n",
       "      <th>score_time</th>\n",
       "      <td>0.082</td>\n",
       "      <td>0.002</td>\n",
       "    </tr>\n",
       "    <tr>\n",
       "      <th>test_r2</th>\n",
       "      <td>0.387</td>\n",
       "      <td>0.046</td>\n",
       "    </tr>\n",
       "    <tr>\n",
       "      <th>train_r2</th>\n",
       "      <td>0.769</td>\n",
       "      <td>0.004</td>\n",
       "    </tr>\n",
       "    <tr>\n",
       "      <th>test_MAPE</th>\n",
       "      <td>-0.077</td>\n",
       "      <td>0.004</td>\n",
       "    </tr>\n",
       "    <tr>\n",
       "      <th>train_MAPE</th>\n",
       "      <td>-0.045</td>\n",
       "      <td>0.001</td>\n",
       "    </tr>\n",
       "    <tr>\n",
       "      <th>test_neg_rmse</th>\n",
       "      <td>-0.645</td>\n",
       "      <td>0.021</td>\n",
       "    </tr>\n",
       "    <tr>\n",
       "      <th>train_neg_rmse</th>\n",
       "      <td>-0.398</td>\n",
       "      <td>0.003</td>\n",
       "    </tr>\n",
       "    <tr>\n",
       "      <th>test_neg_mse</th>\n",
       "      <td>-0.417</td>\n",
       "      <td>0.027</td>\n",
       "    </tr>\n",
       "    <tr>\n",
       "      <th>train_neg_mse</th>\n",
       "      <td>-0.158</td>\n",
       "      <td>0.003</td>\n",
       "    </tr>\n",
       "  </tbody>\n",
       "</table>\n",
       "</div>"
      ],
      "text/plain": [
       "                  mean    std\n",
       "fit_time        16.186  0.302\n",
       "score_time       0.082  0.002\n",
       "test_r2          0.387  0.046\n",
       "train_r2         0.769  0.004\n",
       "test_MAPE       -0.077  0.004\n",
       "train_MAPE      -0.045  0.001\n",
       "test_neg_rmse   -0.645  0.021\n",
       "train_neg_rmse  -0.398  0.003\n",
       "test_neg_mse    -0.417  0.027\n",
       "train_neg_mse   -0.158  0.003"
      ]
     },
     "execution_count": 13,
     "metadata": {},
     "output_type": "execute_result"
    }
   ],
   "source": [
    "cross_val_results[\"random_forest\"] = pd.DataFrame(cross_validate(pipe_rfr_opt, X_train.iloc[0:2000], y_train.iloc[0:2000], return_train_score=True, scoring=scoring_dict)).agg(['mean', 'std']).round(3).T\n",
    "cross_val_results[\"random_forest\"]"
   ]
  },
  {
   "cell_type": "code",
   "execution_count": 14,
   "metadata": {},
   "outputs": [],
   "source": [
    "cross_val_results[\"dummy_regressor\"] = cross_val_results[\"dummy_regressor\"].drop(columns=\"std\").rename(columns={\"mean\": \"Dummy_Regressor\"})\n",
    "cross_val_results[\"random_forest\"] = cross_val_results[\"random_forest\"].drop(columns=\"std\").rename(columns={\"mean\": \"Random_Forest\"})\n",
    "cross_val_results[\"ridge\"] = cross_val_results[\"ridge\"].drop(columns=\"std\").rename(columns={\"mean\": \"Ridge\"})"
   ]
  },
  {
   "cell_type": "code",
   "execution_count": 15,
   "metadata": {},
   "outputs": [
    {
     "data": {
      "text/html": [
       "<div>\n",
       "<style scoped>\n",
       "    .dataframe tbody tr th:only-of-type {\n",
       "        vertical-align: middle;\n",
       "    }\n",
       "\n",
       "    .dataframe tbody tr th {\n",
       "        vertical-align: top;\n",
       "    }\n",
       "\n",
       "    .dataframe thead th {\n",
       "        text-align: right;\n",
       "    }\n",
       "</style>\n",
       "<table border=\"1\" class=\"dataframe\">\n",
       "  <thead>\n",
       "    <tr style=\"text-align: right;\">\n",
       "      <th></th>\n",
       "      <th>Dummy_Regressor</th>\n",
       "      <th>Ridge</th>\n",
       "      <th>Random_Forest</th>\n",
       "    </tr>\n",
       "  </thead>\n",
       "  <tbody>\n",
       "    <tr>\n",
       "      <th>fit_time</th>\n",
       "      <td>0.002</td>\n",
       "      <td>0.870</td>\n",
       "      <td>16.186</td>\n",
       "    </tr>\n",
       "    <tr>\n",
       "      <th>score_time</th>\n",
       "      <td>0.001</td>\n",
       "      <td>0.213</td>\n",
       "      <td>0.082</td>\n",
       "    </tr>\n",
       "    <tr>\n",
       "      <th>test_r2</th>\n",
       "      <td>-0.001</td>\n",
       "      <td>0.266</td>\n",
       "      <td>0.387</td>\n",
       "    </tr>\n",
       "    <tr>\n",
       "      <th>train_r2</th>\n",
       "      <td>0.000</td>\n",
       "      <td>0.512</td>\n",
       "      <td>0.769</td>\n",
       "    </tr>\n",
       "    <tr>\n",
       "      <th>test_MAPE</th>\n",
       "      <td>-0.102</td>\n",
       "      <td>-0.086</td>\n",
       "      <td>-0.077</td>\n",
       "    </tr>\n",
       "    <tr>\n",
       "      <th>train_MAPE</th>\n",
       "      <td>-0.102</td>\n",
       "      <td>-0.070</td>\n",
       "      <td>-0.045</td>\n",
       "    </tr>\n",
       "    <tr>\n",
       "      <th>test_neg_rmse</th>\n",
       "      <td>-0.826</td>\n",
       "      <td>-0.708</td>\n",
       "      <td>-0.645</td>\n",
       "    </tr>\n",
       "    <tr>\n",
       "      <th>train_neg_rmse</th>\n",
       "      <td>-0.827</td>\n",
       "      <td>-0.577</td>\n",
       "      <td>-0.398</td>\n",
       "    </tr>\n",
       "    <tr>\n",
       "      <th>test_neg_mse</th>\n",
       "      <td>-0.683</td>\n",
       "      <td>-0.501</td>\n",
       "      <td>-0.417</td>\n",
       "    </tr>\n",
       "    <tr>\n",
       "      <th>train_neg_mse</th>\n",
       "      <td>-0.683</td>\n",
       "      <td>-0.333</td>\n",
       "      <td>-0.158</td>\n",
       "    </tr>\n",
       "  </tbody>\n",
       "</table>\n",
       "</div>"
      ],
      "text/plain": [
       "                Dummy_Regressor  Ridge  Random_Forest\n",
       "fit_time                  0.002  0.870         16.186\n",
       "score_time                0.001  0.213          0.082\n",
       "test_r2                  -0.001  0.266          0.387\n",
       "train_r2                  0.000  0.512          0.769\n",
       "test_MAPE                -0.102 -0.086         -0.077\n",
       "train_MAPE               -0.102 -0.070         -0.045\n",
       "test_neg_rmse            -0.826 -0.708         -0.645\n",
       "train_neg_rmse           -0.827 -0.577         -0.398\n",
       "test_neg_mse             -0.683 -0.501         -0.417\n",
       "train_neg_mse            -0.683 -0.333         -0.158"
      ]
     },
     "execution_count": 15,
     "metadata": {},
     "output_type": "execute_result"
    }
   ],
   "source": [
    "cross_val_results_df = cross_val_results[\"dummy_regressor\"].join(cross_val_results[\"ridge\"], how=\"inner\").join(cross_val_results[\"random_forest\"], how=\"inner\")\n",
    "cross_val_results_df"
   ]
  },
  {
   "cell_type": "code",
   "execution_count": 18,
   "metadata": {},
   "outputs": [
    {
     "data": {
      "text/html": [
       "<style>#sk-container-id-2 {color: black;background-color: white;}#sk-container-id-2 pre{padding: 0;}#sk-container-id-2 div.sk-toggleable {background-color: white;}#sk-container-id-2 label.sk-toggleable__label {cursor: pointer;display: block;width: 100%;margin-bottom: 0;padding: 0.3em;box-sizing: border-box;text-align: center;}#sk-container-id-2 label.sk-toggleable__label-arrow:before {content: \"▸\";float: left;margin-right: 0.25em;color: #696969;}#sk-container-id-2 label.sk-toggleable__label-arrow:hover:before {color: black;}#sk-container-id-2 div.sk-estimator:hover label.sk-toggleable__label-arrow:before {color: black;}#sk-container-id-2 div.sk-toggleable__content {max-height: 0;max-width: 0;overflow: hidden;text-align: left;background-color: #f0f8ff;}#sk-container-id-2 div.sk-toggleable__content pre {margin: 0.2em;color: black;border-radius: 0.25em;background-color: #f0f8ff;}#sk-container-id-2 input.sk-toggleable__control:checked~div.sk-toggleable__content {max-height: 200px;max-width: 100%;overflow: auto;}#sk-container-id-2 input.sk-toggleable__control:checked~label.sk-toggleable__label-arrow:before {content: \"▾\";}#sk-container-id-2 div.sk-estimator input.sk-toggleable__control:checked~label.sk-toggleable__label {background-color: #d4ebff;}#sk-container-id-2 div.sk-label input.sk-toggleable__control:checked~label.sk-toggleable__label {background-color: #d4ebff;}#sk-container-id-2 input.sk-hidden--visually {border: 0;clip: rect(1px 1px 1px 1px);clip: rect(1px, 1px, 1px, 1px);height: 1px;margin: -1px;overflow: hidden;padding: 0;position: absolute;width: 1px;}#sk-container-id-2 div.sk-estimator {font-family: monospace;background-color: #f0f8ff;border: 1px dotted black;border-radius: 0.25em;box-sizing: border-box;margin-bottom: 0.5em;}#sk-container-id-2 div.sk-estimator:hover {background-color: #d4ebff;}#sk-container-id-2 div.sk-parallel-item::after {content: \"\";width: 100%;border-bottom: 1px solid gray;flex-grow: 1;}#sk-container-id-2 div.sk-label:hover label.sk-toggleable__label {background-color: #d4ebff;}#sk-container-id-2 div.sk-serial::before {content: \"\";position: absolute;border-left: 1px solid gray;box-sizing: border-box;top: 0;bottom: 0;left: 50%;z-index: 0;}#sk-container-id-2 div.sk-serial {display: flex;flex-direction: column;align-items: center;background-color: white;padding-right: 0.2em;padding-left: 0.2em;position: relative;}#sk-container-id-2 div.sk-item {position: relative;z-index: 1;}#sk-container-id-2 div.sk-parallel {display: flex;align-items: stretch;justify-content: center;background-color: white;position: relative;}#sk-container-id-2 div.sk-item::before, #sk-container-id-2 div.sk-parallel-item::before {content: \"\";position: absolute;border-left: 1px solid gray;box-sizing: border-box;top: 0;bottom: 0;left: 50%;z-index: -1;}#sk-container-id-2 div.sk-parallel-item {display: flex;flex-direction: column;z-index: 1;position: relative;background-color: white;}#sk-container-id-2 div.sk-parallel-item:first-child::after {align-self: flex-end;width: 50%;}#sk-container-id-2 div.sk-parallel-item:last-child::after {align-self: flex-start;width: 50%;}#sk-container-id-2 div.sk-parallel-item:only-child::after {width: 0;}#sk-container-id-2 div.sk-dashed-wrapped {border: 1px dashed gray;margin: 0 0.4em 0.5em 0.4em;box-sizing: border-box;padding-bottom: 0.4em;background-color: white;}#sk-container-id-2 div.sk-label label {font-family: monospace;font-weight: bold;display: inline-block;line-height: 1.2em;}#sk-container-id-2 div.sk-label-container {text-align: center;}#sk-container-id-2 div.sk-container {/* jupyter's `normalize.less` sets `[hidden] { display: none; }` but bootstrap.min.css set `[hidden] { display: none !important; }` so we also need the `!important` here to be able to override the default hidden behavior on the sphinx rendered scikit-learn.org. See: https://github.com/scikit-learn/scikit-learn/issues/21755 */display: inline-block !important;position: relative;}#sk-container-id-2 div.sk-text-repr-fallback {display: none;}</style><div id=\"sk-container-id-2\" class=\"sk-top-container\"><div class=\"sk-text-repr-fallback\"><pre>Pipeline(steps=[(&#x27;columntransformer&#x27;,\n",
       "                 ColumnTransformer(transformers=[(&#x27;standardscaler&#x27;,\n",
       "                                                  StandardScaler(),\n",
       "                                                  [&#x27;yearpublished&#x27;,\n",
       "                                                   &#x27;minplayers&#x27;, &#x27;maxplayers&#x27;,\n",
       "                                                   &#x27;playingtime&#x27;, &#x27;minplaytime&#x27;,\n",
       "                                                   &#x27;maxplaytime&#x27;, &#x27;minage&#x27;]),\n",
       "                                                 (&#x27;countvectorizer&#x27;,\n",
       "                                                  CountVectorizer(max_features=1000,\n",
       "                                                                  stop_words=&#x27;english&#x27;),\n",
       "                                                  &#x27;description&#x27;),\n",
       "                                                 (&#x27;onehotencoder&#x27;,\n",
       "                                                  OneHotEncoder(handle_unknown=&#x27;ignore&#x27;),\n",
       "                                                  [&#x27;boardgamecategory&#x27;,\n",
       "                                                   &#x27;boardgamemechanic&#x27;,\n",
       "                                                   &#x27;boardgamefamily&#x27;,\n",
       "                                                   &#x27;boardgamedesigner&#x27;,\n",
       "                                                   &#x27;boardgameartist&#x27;,\n",
       "                                                   &#x27;boardgamepublisher&#x27;])])),\n",
       "                (&#x27;randomforestregressor&#x27;,\n",
       "                 RandomForestRegressor(max_depth=96, min_samples_leaf=4,\n",
       "                                       min_samples_split=10))])</pre><b>In a Jupyter environment, please rerun this cell to show the HTML representation or trust the notebook. <br />On GitHub, the HTML representation is unable to render, please try loading this page with nbviewer.org.</b></div><div class=\"sk-container\" hidden><div class=\"sk-item sk-dashed-wrapped\"><div class=\"sk-label-container\"><div class=\"sk-label sk-toggleable\"><input class=\"sk-toggleable__control sk-hidden--visually\" id=\"sk-estimator-id-10\" type=\"checkbox\" ><label for=\"sk-estimator-id-10\" class=\"sk-toggleable__label sk-toggleable__label-arrow\">Pipeline</label><div class=\"sk-toggleable__content\"><pre>Pipeline(steps=[(&#x27;columntransformer&#x27;,\n",
       "                 ColumnTransformer(transformers=[(&#x27;standardscaler&#x27;,\n",
       "                                                  StandardScaler(),\n",
       "                                                  [&#x27;yearpublished&#x27;,\n",
       "                                                   &#x27;minplayers&#x27;, &#x27;maxplayers&#x27;,\n",
       "                                                   &#x27;playingtime&#x27;, &#x27;minplaytime&#x27;,\n",
       "                                                   &#x27;maxplaytime&#x27;, &#x27;minage&#x27;]),\n",
       "                                                 (&#x27;countvectorizer&#x27;,\n",
       "                                                  CountVectorizer(max_features=1000,\n",
       "                                                                  stop_words=&#x27;english&#x27;),\n",
       "                                                  &#x27;description&#x27;),\n",
       "                                                 (&#x27;onehotencoder&#x27;,\n",
       "                                                  OneHotEncoder(handle_unknown=&#x27;ignore&#x27;),\n",
       "                                                  [&#x27;boardgamecategory&#x27;,\n",
       "                                                   &#x27;boardgamemechanic&#x27;,\n",
       "                                                   &#x27;boardgamefamily&#x27;,\n",
       "                                                   &#x27;boardgamedesigner&#x27;,\n",
       "                                                   &#x27;boardgameartist&#x27;,\n",
       "                                                   &#x27;boardgamepublisher&#x27;])])),\n",
       "                (&#x27;randomforestregressor&#x27;,\n",
       "                 RandomForestRegressor(max_depth=96, min_samples_leaf=4,\n",
       "                                       min_samples_split=10))])</pre></div></div></div><div class=\"sk-serial\"><div class=\"sk-item sk-dashed-wrapped\"><div class=\"sk-label-container\"><div class=\"sk-label sk-toggleable\"><input class=\"sk-toggleable__control sk-hidden--visually\" id=\"sk-estimator-id-11\" type=\"checkbox\" ><label for=\"sk-estimator-id-11\" class=\"sk-toggleable__label sk-toggleable__label-arrow\">columntransformer: ColumnTransformer</label><div class=\"sk-toggleable__content\"><pre>ColumnTransformer(transformers=[(&#x27;standardscaler&#x27;, StandardScaler(),\n",
       "                                 [&#x27;yearpublished&#x27;, &#x27;minplayers&#x27;, &#x27;maxplayers&#x27;,\n",
       "                                  &#x27;playingtime&#x27;, &#x27;minplaytime&#x27;, &#x27;maxplaytime&#x27;,\n",
       "                                  &#x27;minage&#x27;]),\n",
       "                                (&#x27;countvectorizer&#x27;,\n",
       "                                 CountVectorizer(max_features=1000,\n",
       "                                                 stop_words=&#x27;english&#x27;),\n",
       "                                 &#x27;description&#x27;),\n",
       "                                (&#x27;onehotencoder&#x27;,\n",
       "                                 OneHotEncoder(handle_unknown=&#x27;ignore&#x27;),\n",
       "                                 [&#x27;boardgamecategory&#x27;, &#x27;boardgamemechanic&#x27;,\n",
       "                                  &#x27;boardgamefamily&#x27;, &#x27;boardgamedesigner&#x27;,\n",
       "                                  &#x27;boardgameartist&#x27;, &#x27;boardgamepublisher&#x27;])])</pre></div></div></div><div class=\"sk-parallel\"><div class=\"sk-parallel-item\"><div class=\"sk-item\"><div class=\"sk-label-container\"><div class=\"sk-label sk-toggleable\"><input class=\"sk-toggleable__control sk-hidden--visually\" id=\"sk-estimator-id-12\" type=\"checkbox\" ><label for=\"sk-estimator-id-12\" class=\"sk-toggleable__label sk-toggleable__label-arrow\">standardscaler</label><div class=\"sk-toggleable__content\"><pre>[&#x27;yearpublished&#x27;, &#x27;minplayers&#x27;, &#x27;maxplayers&#x27;, &#x27;playingtime&#x27;, &#x27;minplaytime&#x27;, &#x27;maxplaytime&#x27;, &#x27;minage&#x27;]</pre></div></div></div><div class=\"sk-serial\"><div class=\"sk-item\"><div class=\"sk-estimator sk-toggleable\"><input class=\"sk-toggleable__control sk-hidden--visually\" id=\"sk-estimator-id-13\" type=\"checkbox\" ><label for=\"sk-estimator-id-13\" class=\"sk-toggleable__label sk-toggleable__label-arrow\">StandardScaler</label><div class=\"sk-toggleable__content\"><pre>StandardScaler()</pre></div></div></div></div></div></div><div class=\"sk-parallel-item\"><div class=\"sk-item\"><div class=\"sk-label-container\"><div class=\"sk-label sk-toggleable\"><input class=\"sk-toggleable__control sk-hidden--visually\" id=\"sk-estimator-id-14\" type=\"checkbox\" ><label for=\"sk-estimator-id-14\" class=\"sk-toggleable__label sk-toggleable__label-arrow\">countvectorizer</label><div class=\"sk-toggleable__content\"><pre>description</pre></div></div></div><div class=\"sk-serial\"><div class=\"sk-item\"><div class=\"sk-estimator sk-toggleable\"><input class=\"sk-toggleable__control sk-hidden--visually\" id=\"sk-estimator-id-15\" type=\"checkbox\" ><label for=\"sk-estimator-id-15\" class=\"sk-toggleable__label sk-toggleable__label-arrow\">CountVectorizer</label><div class=\"sk-toggleable__content\"><pre>CountVectorizer(max_features=1000, stop_words=&#x27;english&#x27;)</pre></div></div></div></div></div></div><div class=\"sk-parallel-item\"><div class=\"sk-item\"><div class=\"sk-label-container\"><div class=\"sk-label sk-toggleable\"><input class=\"sk-toggleable__control sk-hidden--visually\" id=\"sk-estimator-id-16\" type=\"checkbox\" ><label for=\"sk-estimator-id-16\" class=\"sk-toggleable__label sk-toggleable__label-arrow\">onehotencoder</label><div class=\"sk-toggleable__content\"><pre>[&#x27;boardgamecategory&#x27;, &#x27;boardgamemechanic&#x27;, &#x27;boardgamefamily&#x27;, &#x27;boardgamedesigner&#x27;, &#x27;boardgameartist&#x27;, &#x27;boardgamepublisher&#x27;]</pre></div></div></div><div class=\"sk-serial\"><div class=\"sk-item\"><div class=\"sk-estimator sk-toggleable\"><input class=\"sk-toggleable__control sk-hidden--visually\" id=\"sk-estimator-id-17\" type=\"checkbox\" ><label for=\"sk-estimator-id-17\" class=\"sk-toggleable__label sk-toggleable__label-arrow\">OneHotEncoder</label><div class=\"sk-toggleable__content\"><pre>OneHotEncoder(handle_unknown=&#x27;ignore&#x27;)</pre></div></div></div></div></div></div></div></div><div class=\"sk-item\"><div class=\"sk-estimator sk-toggleable\"><input class=\"sk-toggleable__control sk-hidden--visually\" id=\"sk-estimator-id-18\" type=\"checkbox\" ><label for=\"sk-estimator-id-18\" class=\"sk-toggleable__label sk-toggleable__label-arrow\">RandomForestRegressor</label><div class=\"sk-toggleable__content\"><pre>RandomForestRegressor(max_depth=96, min_samples_leaf=4, min_samples_split=10)</pre></div></div></div></div></div></div></div>"
      ],
      "text/plain": [
       "Pipeline(steps=[('columntransformer',\n",
       "                 ColumnTransformer(transformers=[('standardscaler',\n",
       "                                                  StandardScaler(),\n",
       "                                                  ['yearpublished',\n",
       "                                                   'minplayers', 'maxplayers',\n",
       "                                                   'playingtime', 'minplaytime',\n",
       "                                                   'maxplaytime', 'minage']),\n",
       "                                                 ('countvectorizer',\n",
       "                                                  CountVectorizer(max_features=1000,\n",
       "                                                                  stop_words='english'),\n",
       "                                                  'description'),\n",
       "                                                 ('onehotencoder',\n",
       "                                                  OneHotEncoder(handle_unknown='ignore'),\n",
       "                                                  ['boardgamecategory',\n",
       "                                                   'boardgamemechanic',\n",
       "                                                   'boardgamefamily',\n",
       "                                                   'boardgamedesigner',\n",
       "                                                   'boardgameartist',\n",
       "                                                   'boardgamepublisher'])])),\n",
       "                ('randomforestregressor',\n",
       "                 RandomForestRegressor(max_depth=96, min_samples_leaf=4,\n",
       "                                       min_samples_split=10))])"
      ]
     },
     "execution_count": 18,
     "metadata": {},
     "output_type": "execute_result"
    }
   ],
   "source": [
    "pipe_rfr_opt.fit(X_train, y_train)"
   ]
  },
  {
   "cell_type": "code",
   "execution_count": 19,
   "metadata": {},
   "outputs": [
    {
     "data": {
      "text/plain": [
       "0.44705448040292595"
      ]
     },
     "execution_count": 19,
     "metadata": {},
     "output_type": "execute_result"
    }
   ],
   "source": [
    "pipe_rfr_opt.score(X_test, y_test)"
   ]
  },
  {
   "cell_type": "code",
   "execution_count": 20,
   "metadata": {},
   "outputs": [
    {
     "data": {
      "text/plain": [
       "array([6.9090758 , 7.30222252, 7.29238633, ..., 7.4977171 , 6.41909947,\n",
       "       6.47112679])"
      ]
     },
     "execution_count": 20,
     "metadata": {},
     "output_type": "execute_result"
    }
   ],
   "source": [
    "pipe_rfr_opt.predict(X_test)"
   ]
  },
  {
   "cell_type": "code",
   "execution_count": 75,
   "metadata": {},
   "outputs": [
    {
     "data": {
      "text/html": [
       "<div>\n",
       "<style scoped>\n",
       "    .dataframe tbody tr th:only-of-type {\n",
       "        vertical-align: middle;\n",
       "    }\n",
       "\n",
       "    .dataframe tbody tr th {\n",
       "        vertical-align: top;\n",
       "    }\n",
       "\n",
       "    .dataframe thead th {\n",
       "        text-align: right;\n",
       "    }\n",
       "</style>\n",
       "<table border=\"1\" class=\"dataframe\">\n",
       "  <thead>\n",
       "    <tr style=\"text-align: right;\">\n",
       "      <th></th>\n",
       "      <th>Actual Scores</th>\n",
       "      <th>Predicted Scores</th>\n",
       "    </tr>\n",
       "  </thead>\n",
       "  <tbody>\n",
       "    <tr>\n",
       "      <th>0</th>\n",
       "      <td>6.56</td>\n",
       "      <td>6.909076</td>\n",
       "    </tr>\n",
       "    <tr>\n",
       "      <th>1</th>\n",
       "      <td>7.77</td>\n",
       "      <td>7.302223</td>\n",
       "    </tr>\n",
       "    <tr>\n",
       "      <th>2</th>\n",
       "      <td>7.36</td>\n",
       "      <td>7.292386</td>\n",
       "    </tr>\n",
       "    <tr>\n",
       "      <th>3</th>\n",
       "      <td>5.88</td>\n",
       "      <td>6.279644</td>\n",
       "    </tr>\n",
       "    <tr>\n",
       "      <th>4</th>\n",
       "      <td>8.55</td>\n",
       "      <td>7.772736</td>\n",
       "    </tr>\n",
       "    <tr>\n",
       "      <th>...</th>\n",
       "      <td>...</td>\n",
       "      <td>...</td>\n",
       "    </tr>\n",
       "    <tr>\n",
       "      <th>6236</th>\n",
       "      <td>5.77</td>\n",
       "      <td>6.158014</td>\n",
       "    </tr>\n",
       "    <tr>\n",
       "      <th>6237</th>\n",
       "      <td>5.97</td>\n",
       "      <td>6.288487</td>\n",
       "    </tr>\n",
       "    <tr>\n",
       "      <th>6238</th>\n",
       "      <td>7.53</td>\n",
       "      <td>7.497717</td>\n",
       "    </tr>\n",
       "    <tr>\n",
       "      <th>6239</th>\n",
       "      <td>6.67</td>\n",
       "      <td>6.419099</td>\n",
       "    </tr>\n",
       "    <tr>\n",
       "      <th>6240</th>\n",
       "      <td>6.77</td>\n",
       "      <td>6.471127</td>\n",
       "    </tr>\n",
       "  </tbody>\n",
       "</table>\n",
       "<p>6241 rows × 2 columns</p>\n",
       "</div>"
      ],
      "text/plain": [
       "      Actual Scores  Predicted Scores\n",
       "0              6.56          6.909076\n",
       "1              7.77          7.302223\n",
       "2              7.36          7.292386\n",
       "3              5.88          6.279644\n",
       "4              8.55          7.772736\n",
       "...             ...               ...\n",
       "6236           5.77          6.158014\n",
       "6237           5.97          6.288487\n",
       "6238           7.53          7.497717\n",
       "6239           6.67          6.419099\n",
       "6240           6.77          6.471127\n",
       "\n",
       "[6241 rows x 2 columns]"
      ]
     },
     "execution_count": 75,
     "metadata": {},
     "output_type": "execute_result"
    }
   ],
   "source": [
    "# actual_scores_dict = {\n",
    "#     \"Score\": y_test,\n",
    "#     \"Type\": \"Actual Score\"\n",
    "# }\n",
    "\n",
    "# prediction_scores_dict = {\n",
    "#     \"Score\": pipe_rfr_opt.predict(X_test),\n",
    "#     \"Type\": \"Predicted Score\"\n",
    "# }\n",
    "\n",
    "# act_df = pd.DataFrame(actual_scores_dict)\n",
    "# pred_df = pd.DataFrame(prediction_scores_dict)\n",
    "\n",
    "# results_df = pd.concat([act_df, pred_df])\n",
    "# results_df\n",
    "\n",
    "results_dict = {\n",
    "    \"Actual Scores\": y_test,\n",
    "    \"Predicted Scores\": pipe_rfr_opt.predict(X_test)\n",
    "}\n",
    "\n",
    "results_df = pd.DataFrame(results_dict)\n",
    "results_df"
   ]
  },
  {
   "cell_type": "code",
   "execution_count": 96,
   "metadata": {},
   "outputs": [
    {
     "data": {
      "application/vnd.vegalite.v4+json": {
       "$schema": "https://vega.github.io/schema/vega-lite/v4.17.0.json",
       "config": {
        "view": {
         "continuousHeight": 300,
         "continuousWidth": 400
        }
       },
       "layer": [
        {
         "data": {
          "url": "http://localhost:62716/b8127cdacb86dee4a8414910c0f0c49a.json"
         },
         "encoding": {
          "x": {
           "field": "Actual Scores",
           "scale": {
            "domain": [
             2,
             10
            ]
           },
           "type": "quantitative"
          },
          "y": {
           "field": "Predicted Scores",
           "scale": {
            "domain": [
             2,
             10
            ]
           },
           "type": "quantitative"
          }
         },
         "height": 1000,
         "mark": {
          "color": "#f75402",
          "opacity": 1,
          "size": 3,
          "type": "circle"
         },
         "width": 1000
        },
        {
         "data": {
          "url": "http://localhost:62716/5c1192136621534a49c178dbc3b722de.json"
         },
         "encoding": {
          "x": {
           "field": "Actual Scores",
           "type": "quantitative"
          },
          "y": {
           "field": "Predicted Scores",
           "type": "quantitative"
          }
         },
         "mark": {
          "color": "#1049ad",
          "type": "line"
         }
        },
        {
         "data": {
          "url": "http://localhost:62716/b8127cdacb86dee4a8414910c0f0c49a.json"
         },
         "encoding": {
          "x": {
           "field": "Actual Scores",
           "scale": {
            "domain": [
             2,
             10
            ]
           },
           "type": "quantitative"
          },
          "y": {
           "field": "Predicted Scores",
           "scale": {
            "domain": [
             2,
             10
            ]
           },
           "type": "quantitative"
          }
         },
         "height": 1000,
         "mark": "line",
         "transform": [
          {
           "bandwidth": 0.9,
           "loess": "Predicted Scores",
           "on": "Actual Scores"
          }
         ],
         "width": 1000
        }
       ]
      },
      "text/plain": [
       "<VegaLite 4 object>\n",
       "\n",
       "If you see this message, it means the renderer has not been properly enabled\n",
       "for the frontend that you are using. For more information, see\n",
       "https://altair-viz.github.io/user_guide/troubleshooting.html\n"
      ]
     },
     "execution_count": 96,
     "metadata": {},
     "output_type": "execute_result"
    }
   ],
   "source": [
    "prediction_results_points = alt.Chart(results_df).mark_circle(opacity = 1, size = 3, color = \"#f75402\").encode(\n",
    "    x = alt.X(\"Actual Scores\", scale=alt.Scale(domain=[2, 10])),\n",
    "    y = alt.Y(\"Predicted Scores\", scale=alt.Scale(domain=[2, 10]))\n",
    ").properties(\n",
    "    width = 1000,\n",
    "    height = 1000\n",
    ")\n",
    "\n",
    "line_plot = alt.Chart(line_df).mark_line(color = \"#1049ad\").encode(\n",
    "    x = \"Actual Scores\",\n",
    "    y = \"Predicted Scores\"\n",
    ")\n",
    "\n",
    "x = prediction_results_points + line_plot + prediction_results_points.transform_loess('Actual Scores', 'Predicted Scores', bandwidth = 0.9).mark_line()\n",
    "x"
   ]
  }
 ],
 "metadata": {
  "kernelspec": {
   "display_name": "Python 3.10.6 ('573')",
   "language": "python",
   "name": "python3"
  },
  "language_info": {
   "codemirror_mode": {
    "name": "ipython",
    "version": 3
   },
   "file_extension": ".py",
   "mimetype": "text/x-python",
   "name": "python",
   "nbconvert_exporter": "python",
   "pygments_lexer": "ipython3",
   "version": "3.10.6"
  },
  "orig_nbformat": 4,
  "vscode": {
   "interpreter": {
    "hash": "de0bb3947e03dfed865dc55ba5cc94fdbf5358f52a4de2622614c553f041fbc7"
   }
  }
 },
 "nbformat": 4,
 "nbformat_minor": 2
}
