{
 "cells": [
  {
   "cell_type": "markdown",
   "id": "3683d36e-dd57-4558-b492-d41c55352b9b",
   "metadata": {
    "tags": []
   },
   "source": [
    "# Board Game Rating Prediction"
   ]
  },
  {
   "cell_type": "markdown",
   "id": "96cdaa6b-7ff1-4547-ab0b-a31b049d392a",
   "metadata": {},
   "source": [
    "The dataset was obtained [here](https://github.com/rfordatascience/tidytuesday/blob/master/data/2022/2022-01-25/readme.md) with the original source coming from [Kaggle](https://www.kaggle.com/datasets/jvanelteren/boardgamegeek-reviews?select=2022-01-08.csv). The data was collected from [BoardGameGeek](https://boardgamegeek.com/).<br><br>\n",
    "The dataset contains two files: one for information on the games related information and ratings from the website, and the other for information relating to the game and its descriptions. Our goal for this project is to create a machine learning model using information related to these board games that will predict on the target `average`: the average rating of a game. Therefore, our model will be a regression model.  \n",
    "<br>\n",
    "In this notebook, we will first read in the two data files and merge them. Then, we will examine the merged DataFrame and look for missing values or features that may not be useful and process them. Finally, we will create visualizations of tables or plots to examine the distribution of the target value as well as feature values. This will help us in estimating which features may be useful in the regression task."
   ]
  },
  {
   "cell_type": "code",
   "execution_count": 1,
   "id": "3ef8b988-a61e-4840-9eb9-b214642d304a",
   "metadata": {},
   "outputs": [
    {
     "data": {
      "text/plain": [
       "RendererRegistry.enable('mimetype')"
      ]
     },
     "execution_count": 1,
     "metadata": {},
     "output_type": "execute_result"
    }
   ],
   "source": [
    "import pandas as pd\n",
    "import altair as alt\n",
    "from ast import literal_eval\n",
    "from sklearn.model_selection import train_test_split\n",
    "from sklearn.preprocessing import MultiLabelBinarizer\n",
    "\n",
    "alt.data_transformers.enable('data_server')\n",
    "alt.renderers.enable('mimetype')"
   ]
  },
  {
   "cell_type": "markdown",
   "id": "afbb302f-a717-487d-a335-a527ea9121ef",
   "metadata": {
    "tags": []
   },
   "source": [
    "## Reading in and cleaning the data"
   ]
  },
  {
   "cell_type": "code",
   "execution_count": 2,
   "id": "7faf9676-f2f8-421b-9daa-1e0e17a1ac65",
   "metadata": {},
   "outputs": [],
   "source": [
    "ratings = pd.read_csv(\"../data/raw/ratings.csv\", header=1)\n",
    "details = pd.read_csv(\"../data/raw/details.csv\", header=1)"
   ]
  },
  {
   "cell_type": "markdown",
   "id": "75933e69-0058-4bb9-bb80-717816a57b3f",
   "metadata": {},
   "source": [
    "**Table 1: Examining at the fist few rows of the `ratings` file**"
   ]
  },
  {
   "cell_type": "code",
   "execution_count": 3,
   "id": "a244e861-264f-4497-af65-3c696a7d3cf3",
   "metadata": {},
   "outputs": [
    {
     "data": {
      "text/html": [
       "<div>\n",
       "<style scoped>\n",
       "    .dataframe tbody tr th:only-of-type {\n",
       "        vertical-align: middle;\n",
       "    }\n",
       "\n",
       "    .dataframe tbody tr th {\n",
       "        vertical-align: top;\n",
       "    }\n",
       "\n",
       "    .dataframe thead th {\n",
       "        text-align: right;\n",
       "    }\n",
       "</style>\n",
       "<table border=\"1\" class=\"dataframe\">\n",
       "  <thead>\n",
       "    <tr style=\"text-align: right;\">\n",
       "      <th></th>\n",
       "      <th>num</th>\n",
       "      <th>id</th>\n",
       "      <th>name</th>\n",
       "      <th>year</th>\n",
       "      <th>rank</th>\n",
       "      <th>average</th>\n",
       "      <th>bayes_average</th>\n",
       "      <th>users_rated</th>\n",
       "      <th>url</th>\n",
       "      <th>thumbnail</th>\n",
       "    </tr>\n",
       "  </thead>\n",
       "  <tbody>\n",
       "    <tr>\n",
       "      <th>0</th>\n",
       "      <td>105</td>\n",
       "      <td>30549</td>\n",
       "      <td>Pandemic</td>\n",
       "      <td>2008</td>\n",
       "      <td>106</td>\n",
       "      <td>7.59</td>\n",
       "      <td>7.487</td>\n",
       "      <td>108975</td>\n",
       "      <td>/boardgame/30549/pandemic</td>\n",
       "      <td>https://cf.geekdo-images.com/S3ybV1LAp-8SnHIXL...</td>\n",
       "    </tr>\n",
       "    <tr>\n",
       "      <th>1</th>\n",
       "      <td>189</td>\n",
       "      <td>822</td>\n",
       "      <td>Carcassonne</td>\n",
       "      <td>2000</td>\n",
       "      <td>190</td>\n",
       "      <td>7.42</td>\n",
       "      <td>7.309</td>\n",
       "      <td>108738</td>\n",
       "      <td>/boardgame/822/carcassonne</td>\n",
       "      <td>https://cf.geekdo-images.com/okM0dq_bEXnbyQTOv...</td>\n",
       "    </tr>\n",
       "    <tr>\n",
       "      <th>2</th>\n",
       "      <td>428</td>\n",
       "      <td>13</td>\n",
       "      <td>Catan</td>\n",
       "      <td>1995</td>\n",
       "      <td>429</td>\n",
       "      <td>7.14</td>\n",
       "      <td>6.970</td>\n",
       "      <td>108024</td>\n",
       "      <td>/boardgame/13/catan</td>\n",
       "      <td>https://cf.geekdo-images.com/W3Bsga_uLP9kO91gZ...</td>\n",
       "    </tr>\n",
       "    <tr>\n",
       "      <th>3</th>\n",
       "      <td>72</td>\n",
       "      <td>68448</td>\n",
       "      <td>7 Wonders</td>\n",
       "      <td>2010</td>\n",
       "      <td>73</td>\n",
       "      <td>7.74</td>\n",
       "      <td>7.634</td>\n",
       "      <td>89982</td>\n",
       "      <td>/boardgame/68448/7-wonders</td>\n",
       "      <td>https://cf.geekdo-images.com/RvFVTEpnbb4NM7k0I...</td>\n",
       "    </tr>\n",
       "    <tr>\n",
       "      <th>4</th>\n",
       "      <td>103</td>\n",
       "      <td>36218</td>\n",
       "      <td>Dominion</td>\n",
       "      <td>2008</td>\n",
       "      <td>104</td>\n",
       "      <td>7.61</td>\n",
       "      <td>7.499</td>\n",
       "      <td>81561</td>\n",
       "      <td>/boardgame/36218/dominion</td>\n",
       "      <td>https://cf.geekdo-images.com/j6iQpZ4XkemZP07HN...</td>\n",
       "    </tr>\n",
       "  </tbody>\n",
       "</table>\n",
       "</div>"
      ],
      "text/plain": [
       "   num     id         name  year  rank  average  bayes_average  users_rated  \\\n",
       "0  105  30549     Pandemic  2008   106     7.59          7.487       108975   \n",
       "1  189    822  Carcassonne  2000   190     7.42          7.309       108738   \n",
       "2  428     13        Catan  1995   429     7.14          6.970       108024   \n",
       "3   72  68448    7 Wonders  2010    73     7.74          7.634        89982   \n",
       "4  103  36218     Dominion  2008   104     7.61          7.499        81561   \n",
       "\n",
       "                          url  \\\n",
       "0   /boardgame/30549/pandemic   \n",
       "1  /boardgame/822/carcassonne   \n",
       "2         /boardgame/13/catan   \n",
       "3  /boardgame/68448/7-wonders   \n",
       "4   /boardgame/36218/dominion   \n",
       "\n",
       "                                           thumbnail  \n",
       "0  https://cf.geekdo-images.com/S3ybV1LAp-8SnHIXL...  \n",
       "1  https://cf.geekdo-images.com/okM0dq_bEXnbyQTOv...  \n",
       "2  https://cf.geekdo-images.com/W3Bsga_uLP9kO91gZ...  \n",
       "3  https://cf.geekdo-images.com/RvFVTEpnbb4NM7k0I...  \n",
       "4  https://cf.geekdo-images.com/j6iQpZ4XkemZP07HN...  "
      ]
     },
     "execution_count": 3,
     "metadata": {},
     "output_type": "execute_result"
    }
   ],
   "source": [
    "ratings.head()"
   ]
  },
  {
   "cell_type": "markdown",
   "id": "30b259fc-7a69-4b87-ae3d-1f14a641c87b",
   "metadata": {},
   "source": [
    "**Table 2: Examining at the first few rows of the `details` file**"
   ]
  },
  {
   "cell_type": "code",
   "execution_count": 4,
   "id": "a58bb913-1400-46a7-b569-95a8c141e2e2",
   "metadata": {},
   "outputs": [
    {
     "data": {
      "text/html": [
       "<div>\n",
       "<style scoped>\n",
       "    .dataframe tbody tr th:only-of-type {\n",
       "        vertical-align: middle;\n",
       "    }\n",
       "\n",
       "    .dataframe tbody tr th {\n",
       "        vertical-align: top;\n",
       "    }\n",
       "\n",
       "    .dataframe thead th {\n",
       "        text-align: right;\n",
       "    }\n",
       "</style>\n",
       "<table border=\"1\" class=\"dataframe\">\n",
       "  <thead>\n",
       "    <tr style=\"text-align: right;\">\n",
       "      <th></th>\n",
       "      <th>num</th>\n",
       "      <th>id</th>\n",
       "      <th>primary</th>\n",
       "      <th>description</th>\n",
       "      <th>yearpublished</th>\n",
       "      <th>minplayers</th>\n",
       "      <th>maxplayers</th>\n",
       "      <th>playingtime</th>\n",
       "      <th>minplaytime</th>\n",
       "      <th>maxplaytime</th>\n",
       "      <th>...</th>\n",
       "      <th>boardgamefamily</th>\n",
       "      <th>boardgameexpansion</th>\n",
       "      <th>boardgameimplementation</th>\n",
       "      <th>boardgamedesigner</th>\n",
       "      <th>boardgameartist</th>\n",
       "      <th>boardgamepublisher</th>\n",
       "      <th>owned</th>\n",
       "      <th>trading</th>\n",
       "      <th>wanting</th>\n",
       "      <th>wishing</th>\n",
       "    </tr>\n",
       "  </thead>\n",
       "  <tbody>\n",
       "    <tr>\n",
       "      <th>0</th>\n",
       "      <td>0</td>\n",
       "      <td>30549</td>\n",
       "      <td>Pandemic</td>\n",
       "      <td>In Pandemic, several virulent diseases have br...</td>\n",
       "      <td>2008</td>\n",
       "      <td>2</td>\n",
       "      <td>4</td>\n",
       "      <td>45</td>\n",
       "      <td>45</td>\n",
       "      <td>45</td>\n",
       "      <td>...</td>\n",
       "      <td>['Components: Map (Global Scale)', 'Components...</td>\n",
       "      <td>['Pandemic: Gen Con 2016 Promos – Z-Force Team...</td>\n",
       "      <td>['Pandemic Legacy: Season 0', 'Pandemic Legacy...</td>\n",
       "      <td>['Matt Leacock']</td>\n",
       "      <td>['Josh Cappel', 'Christian Hanisch', 'Régis Mo...</td>\n",
       "      <td>['Z-Man Games', 'Albi', 'Asmodee', 'Asmodee It...</td>\n",
       "      <td>168364</td>\n",
       "      <td>2508</td>\n",
       "      <td>625</td>\n",
       "      <td>9344</td>\n",
       "    </tr>\n",
       "    <tr>\n",
       "      <th>1</th>\n",
       "      <td>1</td>\n",
       "      <td>822</td>\n",
       "      <td>Carcassonne</td>\n",
       "      <td>Carcassonne is a tile-placement game in which ...</td>\n",
       "      <td>2000</td>\n",
       "      <td>2</td>\n",
       "      <td>5</td>\n",
       "      <td>45</td>\n",
       "      <td>30</td>\n",
       "      <td>45</td>\n",
       "      <td>...</td>\n",
       "      <td>['Cities: Carcassonne (France)', 'Components: ...</td>\n",
       "      <td>['20 Jahre Darmstadt Spielt', 'Apothecaries (f...</td>\n",
       "      <td>['The Ark of the Covenant', 'Carcassonne für 2...</td>\n",
       "      <td>['Klaus-Jürgen Wrede']</td>\n",
       "      <td>['Doris Matthäus', 'Anne Pätzke', 'Chris Quill...</td>\n",
       "      <td>['Hans im Glück', '999 Games', 'Albi', 'Bard C...</td>\n",
       "      <td>161299</td>\n",
       "      <td>1716</td>\n",
       "      <td>582</td>\n",
       "      <td>7383</td>\n",
       "    </tr>\n",
       "    <tr>\n",
       "      <th>2</th>\n",
       "      <td>2</td>\n",
       "      <td>13</td>\n",
       "      <td>Catan</td>\n",
       "      <td>In CATAN (formerly The Settlers of Catan), pla...</td>\n",
       "      <td>1995</td>\n",
       "      <td>3</td>\n",
       "      <td>4</td>\n",
       "      <td>120</td>\n",
       "      <td>60</td>\n",
       "      <td>120</td>\n",
       "      <td>...</td>\n",
       "      <td>['Animals: Sheep', 'Components: Hexagonal Tile...</td>\n",
       "      <td>['20 Jahre Darmstadt Spielt', 'Brettspiel Adve...</td>\n",
       "      <td>['Baden-Württemberg Catan', 'Catan Geographies...</td>\n",
       "      <td>['Klaus Teuber']</td>\n",
       "      <td>['Volkan Baga', 'Tanja Donner', 'Pete Fenlon',...</td>\n",
       "      <td>['KOSMOS', '999 Games', 'Albi', 'Asmodee', 'As...</td>\n",
       "      <td>167733</td>\n",
       "      <td>2018</td>\n",
       "      <td>485</td>\n",
       "      <td>5890</td>\n",
       "    </tr>\n",
       "    <tr>\n",
       "      <th>3</th>\n",
       "      <td>3</td>\n",
       "      <td>68448</td>\n",
       "      <td>7 Wonders</td>\n",
       "      <td>You are the leader of one of the 7 great citie...</td>\n",
       "      <td>2010</td>\n",
       "      <td>2</td>\n",
       "      <td>7</td>\n",
       "      <td>30</td>\n",
       "      <td>30</td>\n",
       "      <td>30</td>\n",
       "      <td>...</td>\n",
       "      <td>['Ancient: Babylon', 'Ancient: Egypt', 'Ancien...</td>\n",
       "      <td>['7 Wonders: Armada', '7 Wonders: Babel', '7 W...</td>\n",
       "      <td>['7 Wonders (Second Edition)', '7 Wonders Duel...</td>\n",
       "      <td>['Antoine Bauza']</td>\n",
       "      <td>['Dimitri Chappuis', 'Miguel Coimbra', 'Etienn...</td>\n",
       "      <td>['Repos Production', 'ADC Blackfire Entertainm...</td>\n",
       "      <td>120466</td>\n",
       "      <td>1567</td>\n",
       "      <td>1010</td>\n",
       "      <td>12105</td>\n",
       "    </tr>\n",
       "    <tr>\n",
       "      <th>4</th>\n",
       "      <td>4</td>\n",
       "      <td>36218</td>\n",
       "      <td>Dominion</td>\n",
       "      <td>&amp;quot;You are a monarch, like your parents bef...</td>\n",
       "      <td>2008</td>\n",
       "      <td>2</td>\n",
       "      <td>4</td>\n",
       "      <td>30</td>\n",
       "      <td>30</td>\n",
       "      <td>30</td>\n",
       "      <td>...</td>\n",
       "      <td>['Crowdfunding: Wspieram', 'Game: Dominion', '...</td>\n",
       "      <td>['Ancient Times (fan expansion for Dominion)',...</td>\n",
       "      <td>['Dominion (Second Edition)', 'Het Koninkrijk ...</td>\n",
       "      <td>['Donald X. Vaccarino']</td>\n",
       "      <td>['Matthias Catrein', 'Julien Delval', 'Tomasz ...</td>\n",
       "      <td>['Rio Grande Games', '999 Games', 'Albi', 'Bar...</td>\n",
       "      <td>106956</td>\n",
       "      <td>2009</td>\n",
       "      <td>655</td>\n",
       "      <td>8621</td>\n",
       "    </tr>\n",
       "  </tbody>\n",
       "</table>\n",
       "<p>5 rows × 23 columns</p>\n",
       "</div>"
      ],
      "text/plain": [
       "   num     id      primary                                        description  \\\n",
       "0    0  30549     Pandemic  In Pandemic, several virulent diseases have br...   \n",
       "1    1    822  Carcassonne  Carcassonne is a tile-placement game in which ...   \n",
       "2    2     13        Catan  In CATAN (formerly The Settlers of Catan), pla...   \n",
       "3    3  68448    7 Wonders  You are the leader of one of the 7 great citie...   \n",
       "4    4  36218     Dominion  &quot;You are a monarch, like your parents bef...   \n",
       "\n",
       "   yearpublished  minplayers  maxplayers  playingtime  minplaytime  \\\n",
       "0           2008           2           4           45           45   \n",
       "1           2000           2           5           45           30   \n",
       "2           1995           3           4          120           60   \n",
       "3           2010           2           7           30           30   \n",
       "4           2008           2           4           30           30   \n",
       "\n",
       "   maxplaytime  ...                                    boardgamefamily  \\\n",
       "0           45  ...  ['Components: Map (Global Scale)', 'Components...   \n",
       "1           45  ...  ['Cities: Carcassonne (France)', 'Components: ...   \n",
       "2          120  ...  ['Animals: Sheep', 'Components: Hexagonal Tile...   \n",
       "3           30  ...  ['Ancient: Babylon', 'Ancient: Egypt', 'Ancien...   \n",
       "4           30  ...  ['Crowdfunding: Wspieram', 'Game: Dominion', '...   \n",
       "\n",
       "                                  boardgameexpansion  \\\n",
       "0  ['Pandemic: Gen Con 2016 Promos – Z-Force Team...   \n",
       "1  ['20 Jahre Darmstadt Spielt', 'Apothecaries (f...   \n",
       "2  ['20 Jahre Darmstadt Spielt', 'Brettspiel Adve...   \n",
       "3  ['7 Wonders: Armada', '7 Wonders: Babel', '7 W...   \n",
       "4  ['Ancient Times (fan expansion for Dominion)',...   \n",
       "\n",
       "                             boardgameimplementation        boardgamedesigner  \\\n",
       "0  ['Pandemic Legacy: Season 0', 'Pandemic Legacy...         ['Matt Leacock']   \n",
       "1  ['The Ark of the Covenant', 'Carcassonne für 2...   ['Klaus-Jürgen Wrede']   \n",
       "2  ['Baden-Württemberg Catan', 'Catan Geographies...         ['Klaus Teuber']   \n",
       "3  ['7 Wonders (Second Edition)', '7 Wonders Duel...        ['Antoine Bauza']   \n",
       "4  ['Dominion (Second Edition)', 'Het Koninkrijk ...  ['Donald X. Vaccarino']   \n",
       "\n",
       "                                     boardgameartist  \\\n",
       "0  ['Josh Cappel', 'Christian Hanisch', 'Régis Mo...   \n",
       "1  ['Doris Matthäus', 'Anne Pätzke', 'Chris Quill...   \n",
       "2  ['Volkan Baga', 'Tanja Donner', 'Pete Fenlon',...   \n",
       "3  ['Dimitri Chappuis', 'Miguel Coimbra', 'Etienn...   \n",
       "4  ['Matthias Catrein', 'Julien Delval', 'Tomasz ...   \n",
       "\n",
       "                                  boardgamepublisher   owned trading wanting  \\\n",
       "0  ['Z-Man Games', 'Albi', 'Asmodee', 'Asmodee It...  168364    2508     625   \n",
       "1  ['Hans im Glück', '999 Games', 'Albi', 'Bard C...  161299    1716     582   \n",
       "2  ['KOSMOS', '999 Games', 'Albi', 'Asmodee', 'As...  167733    2018     485   \n",
       "3  ['Repos Production', 'ADC Blackfire Entertainm...  120466    1567    1010   \n",
       "4  ['Rio Grande Games', '999 Games', 'Albi', 'Bar...  106956    2009     655   \n",
       "\n",
       "   wishing  \n",
       "0     9344  \n",
       "1     7383  \n",
       "2     5890  \n",
       "3    12105  \n",
       "4     8621  \n",
       "\n",
       "[5 rows x 23 columns]"
      ]
     },
     "execution_count": 4,
     "metadata": {},
     "output_type": "execute_result"
    }
   ],
   "source": [
    "details.head()"
   ]
  },
  {
   "cell_type": "markdown",
   "id": "384f3780-1d5e-4649-9cdf-439b740b572e",
   "metadata": {},
   "source": [
    "Since we do not need all the features, we will remove the ones that we will not use in the prediction task. From `ratings`, we remove everything except `id` and `average`, since we will need `id` to join the two dataframes and `average` is our target column. From details, we remove `num`, `primary`, `owned`, `trading`, `wanting`, and `wishing`. After dropping the columns, we will join the two dataframes on the `id` column."
   ]
  },
  {
   "cell_type": "code",
   "execution_count": 5,
   "id": "023c304c-45a6-4ffe-80da-c7e12ed59d9f",
   "metadata": {},
   "outputs": [],
   "source": [
    "ratings = ratings[[\"id\", \"average\"]]\n",
    "details = details.drop(columns=[\"num\", \"primary\", \"owned\", \"trading\", \"wanting\", \"wishing\"])\n",
    "boardgame_df = details.merge(ratings, on=\"id\", how=\"left\").drop(columns=[\"id\"])"
   ]
  },
  {
   "cell_type": "markdown",
   "id": "09037ca8-bd91-4e77-9939-8d3a234cd03b",
   "metadata": {},
   "source": [
    "**Table 3: Examining the first few rows of the merged DataFrame**"
   ]
  },
  {
   "cell_type": "code",
   "execution_count": 6,
   "id": "4ad2b40e-5d4a-4cef-a758-8eaa84d0735a",
   "metadata": {},
   "outputs": [
    {
     "data": {
      "text/html": [
       "<div>\n",
       "<style scoped>\n",
       "    .dataframe tbody tr th:only-of-type {\n",
       "        vertical-align: middle;\n",
       "    }\n",
       "\n",
       "    .dataframe tbody tr th {\n",
       "        vertical-align: top;\n",
       "    }\n",
       "\n",
       "    .dataframe thead th {\n",
       "        text-align: right;\n",
       "    }\n",
       "</style>\n",
       "<table border=\"1\" class=\"dataframe\">\n",
       "  <thead>\n",
       "    <tr style=\"text-align: right;\">\n",
       "      <th></th>\n",
       "      <th>description</th>\n",
       "      <th>yearpublished</th>\n",
       "      <th>minplayers</th>\n",
       "      <th>maxplayers</th>\n",
       "      <th>playingtime</th>\n",
       "      <th>minplaytime</th>\n",
       "      <th>maxplaytime</th>\n",
       "      <th>minage</th>\n",
       "      <th>boardgamecategory</th>\n",
       "      <th>boardgamemechanic</th>\n",
       "      <th>boardgamefamily</th>\n",
       "      <th>boardgameexpansion</th>\n",
       "      <th>boardgameimplementation</th>\n",
       "      <th>boardgamedesigner</th>\n",
       "      <th>boardgameartist</th>\n",
       "      <th>boardgamepublisher</th>\n",
       "      <th>average</th>\n",
       "    </tr>\n",
       "  </thead>\n",
       "  <tbody>\n",
       "    <tr>\n",
       "      <th>0</th>\n",
       "      <td>In Pandemic, several virulent diseases have br...</td>\n",
       "      <td>2008</td>\n",
       "      <td>2</td>\n",
       "      <td>4</td>\n",
       "      <td>45</td>\n",
       "      <td>45</td>\n",
       "      <td>45</td>\n",
       "      <td>8</td>\n",
       "      <td>['Medical']</td>\n",
       "      <td>['Action Points', 'Cooperative Game', 'Hand Ma...</td>\n",
       "      <td>['Components: Map (Global Scale)', 'Components...</td>\n",
       "      <td>['Pandemic: Gen Con 2016 Promos – Z-Force Team...</td>\n",
       "      <td>['Pandemic Legacy: Season 0', 'Pandemic Legacy...</td>\n",
       "      <td>['Matt Leacock']</td>\n",
       "      <td>['Josh Cappel', 'Christian Hanisch', 'Régis Mo...</td>\n",
       "      <td>['Z-Man Games', 'Albi', 'Asmodee', 'Asmodee It...</td>\n",
       "      <td>7.59</td>\n",
       "    </tr>\n",
       "    <tr>\n",
       "      <th>1</th>\n",
       "      <td>Carcassonne is a tile-placement game in which ...</td>\n",
       "      <td>2000</td>\n",
       "      <td>2</td>\n",
       "      <td>5</td>\n",
       "      <td>45</td>\n",
       "      <td>30</td>\n",
       "      <td>45</td>\n",
       "      <td>7</td>\n",
       "      <td>['City Building', 'Medieval', 'Territory Build...</td>\n",
       "      <td>['Area Majority / Influence', 'Map Addition', ...</td>\n",
       "      <td>['Cities: Carcassonne (France)', 'Components: ...</td>\n",
       "      <td>['20 Jahre Darmstadt Spielt', 'Apothecaries (f...</td>\n",
       "      <td>['The Ark of the Covenant', 'Carcassonne für 2...</td>\n",
       "      <td>['Klaus-Jürgen Wrede']</td>\n",
       "      <td>['Doris Matthäus', 'Anne Pätzke', 'Chris Quill...</td>\n",
       "      <td>['Hans im Glück', '999 Games', 'Albi', 'Bard C...</td>\n",
       "      <td>7.42</td>\n",
       "    </tr>\n",
       "    <tr>\n",
       "      <th>2</th>\n",
       "      <td>In CATAN (formerly The Settlers of Catan), pla...</td>\n",
       "      <td>1995</td>\n",
       "      <td>3</td>\n",
       "      <td>4</td>\n",
       "      <td>120</td>\n",
       "      <td>60</td>\n",
       "      <td>120</td>\n",
       "      <td>10</td>\n",
       "      <td>['Economic', 'Negotiation']</td>\n",
       "      <td>['Dice Rolling', 'Hexagon Grid', 'Income', 'Mo...</td>\n",
       "      <td>['Animals: Sheep', 'Components: Hexagonal Tile...</td>\n",
       "      <td>['20 Jahre Darmstadt Spielt', 'Brettspiel Adve...</td>\n",
       "      <td>['Baden-Württemberg Catan', 'Catan Geographies...</td>\n",
       "      <td>['Klaus Teuber']</td>\n",
       "      <td>['Volkan Baga', 'Tanja Donner', 'Pete Fenlon',...</td>\n",
       "      <td>['KOSMOS', '999 Games', 'Albi', 'Asmodee', 'As...</td>\n",
       "      <td>7.14</td>\n",
       "    </tr>\n",
       "    <tr>\n",
       "      <th>3</th>\n",
       "      <td>You are the leader of one of the 7 great citie...</td>\n",
       "      <td>2010</td>\n",
       "      <td>2</td>\n",
       "      <td>7</td>\n",
       "      <td>30</td>\n",
       "      <td>30</td>\n",
       "      <td>30</td>\n",
       "      <td>10</td>\n",
       "      <td>['Ancient', 'Card Game', 'City Building', 'Civ...</td>\n",
       "      <td>['Drafting', 'Hand Management', 'Set Collectio...</td>\n",
       "      <td>['Ancient: Babylon', 'Ancient: Egypt', 'Ancien...</td>\n",
       "      <td>['7 Wonders: Armada', '7 Wonders: Babel', '7 W...</td>\n",
       "      <td>['7 Wonders (Second Edition)', '7 Wonders Duel...</td>\n",
       "      <td>['Antoine Bauza']</td>\n",
       "      <td>['Dimitri Chappuis', 'Miguel Coimbra', 'Etienn...</td>\n",
       "      <td>['Repos Production', 'ADC Blackfire Entertainm...</td>\n",
       "      <td>7.74</td>\n",
       "    </tr>\n",
       "    <tr>\n",
       "      <th>4</th>\n",
       "      <td>&amp;quot;You are a monarch, like your parents bef...</td>\n",
       "      <td>2008</td>\n",
       "      <td>2</td>\n",
       "      <td>4</td>\n",
       "      <td>30</td>\n",
       "      <td>30</td>\n",
       "      <td>30</td>\n",
       "      <td>13</td>\n",
       "      <td>['Card Game', 'Medieval']</td>\n",
       "      <td>['Deck, Bag, and Pool Building', 'Delayed Purc...</td>\n",
       "      <td>['Crowdfunding: Wspieram', 'Game: Dominion', '...</td>\n",
       "      <td>['Ancient Times (fan expansion for Dominion)',...</td>\n",
       "      <td>['Dominion (Second Edition)', 'Het Koninkrijk ...</td>\n",
       "      <td>['Donald X. Vaccarino']</td>\n",
       "      <td>['Matthias Catrein', 'Julien Delval', 'Tomasz ...</td>\n",
       "      <td>['Rio Grande Games', '999 Games', 'Albi', 'Bar...</td>\n",
       "      <td>7.61</td>\n",
       "    </tr>\n",
       "  </tbody>\n",
       "</table>\n",
       "</div>"
      ],
      "text/plain": [
       "                                         description  yearpublished  \\\n",
       "0  In Pandemic, several virulent diseases have br...           2008   \n",
       "1  Carcassonne is a tile-placement game in which ...           2000   \n",
       "2  In CATAN (formerly The Settlers of Catan), pla...           1995   \n",
       "3  You are the leader of one of the 7 great citie...           2010   \n",
       "4  &quot;You are a monarch, like your parents bef...           2008   \n",
       "\n",
       "   minplayers  maxplayers  playingtime  minplaytime  maxplaytime  minage  \\\n",
       "0           2           4           45           45           45       8   \n",
       "1           2           5           45           30           45       7   \n",
       "2           3           4          120           60          120      10   \n",
       "3           2           7           30           30           30      10   \n",
       "4           2           4           30           30           30      13   \n",
       "\n",
       "                                   boardgamecategory  \\\n",
       "0                                        ['Medical']   \n",
       "1  ['City Building', 'Medieval', 'Territory Build...   \n",
       "2                        ['Economic', 'Negotiation']   \n",
       "3  ['Ancient', 'Card Game', 'City Building', 'Civ...   \n",
       "4                          ['Card Game', 'Medieval']   \n",
       "\n",
       "                                   boardgamemechanic  \\\n",
       "0  ['Action Points', 'Cooperative Game', 'Hand Ma...   \n",
       "1  ['Area Majority / Influence', 'Map Addition', ...   \n",
       "2  ['Dice Rolling', 'Hexagon Grid', 'Income', 'Mo...   \n",
       "3  ['Drafting', 'Hand Management', 'Set Collectio...   \n",
       "4  ['Deck, Bag, and Pool Building', 'Delayed Purc...   \n",
       "\n",
       "                                     boardgamefamily  \\\n",
       "0  ['Components: Map (Global Scale)', 'Components...   \n",
       "1  ['Cities: Carcassonne (France)', 'Components: ...   \n",
       "2  ['Animals: Sheep', 'Components: Hexagonal Tile...   \n",
       "3  ['Ancient: Babylon', 'Ancient: Egypt', 'Ancien...   \n",
       "4  ['Crowdfunding: Wspieram', 'Game: Dominion', '...   \n",
       "\n",
       "                                  boardgameexpansion  \\\n",
       "0  ['Pandemic: Gen Con 2016 Promos – Z-Force Team...   \n",
       "1  ['20 Jahre Darmstadt Spielt', 'Apothecaries (f...   \n",
       "2  ['20 Jahre Darmstadt Spielt', 'Brettspiel Adve...   \n",
       "3  ['7 Wonders: Armada', '7 Wonders: Babel', '7 W...   \n",
       "4  ['Ancient Times (fan expansion for Dominion)',...   \n",
       "\n",
       "                             boardgameimplementation        boardgamedesigner  \\\n",
       "0  ['Pandemic Legacy: Season 0', 'Pandemic Legacy...         ['Matt Leacock']   \n",
       "1  ['The Ark of the Covenant', 'Carcassonne für 2...   ['Klaus-Jürgen Wrede']   \n",
       "2  ['Baden-Württemberg Catan', 'Catan Geographies...         ['Klaus Teuber']   \n",
       "3  ['7 Wonders (Second Edition)', '7 Wonders Duel...        ['Antoine Bauza']   \n",
       "4  ['Dominion (Second Edition)', 'Het Koninkrijk ...  ['Donald X. Vaccarino']   \n",
       "\n",
       "                                     boardgameartist  \\\n",
       "0  ['Josh Cappel', 'Christian Hanisch', 'Régis Mo...   \n",
       "1  ['Doris Matthäus', 'Anne Pätzke', 'Chris Quill...   \n",
       "2  ['Volkan Baga', 'Tanja Donner', 'Pete Fenlon',...   \n",
       "3  ['Dimitri Chappuis', 'Miguel Coimbra', 'Etienn...   \n",
       "4  ['Matthias Catrein', 'Julien Delval', 'Tomasz ...   \n",
       "\n",
       "                                  boardgamepublisher  average  \n",
       "0  ['Z-Man Games', 'Albi', 'Asmodee', 'Asmodee It...     7.59  \n",
       "1  ['Hans im Glück', '999 Games', 'Albi', 'Bard C...     7.42  \n",
       "2  ['KOSMOS', '999 Games', 'Albi', 'Asmodee', 'As...     7.14  \n",
       "3  ['Repos Production', 'ADC Blackfire Entertainm...     7.74  \n",
       "4  ['Rio Grande Games', '999 Games', 'Albi', 'Bar...     7.61  "
      ]
     },
     "execution_count": 6,
     "metadata": {},
     "output_type": "execute_result"
    }
   ],
   "source": [
    "boardgame_df.head()"
   ]
  },
  {
   "cell_type": "markdown",
   "id": "6348cc60-d169-45bc-91b6-5e7e931cc635",
   "metadata": {
    "tags": []
   },
   "source": [
    "## Exploratory Data Analysis"
   ]
  },
  {
   "cell_type": "markdown",
   "id": "0345da8c-9d91-4cb3-9d32-bf484a83403d",
   "metadata": {},
   "source": [
    "**Table 4: Examining the datatype and missing values of the merged DataFrame**"
   ]
  },
  {
   "cell_type": "code",
   "execution_count": 7,
   "id": "cac7f823-d795-4417-8eba-4a05391f4d3f",
   "metadata": {},
   "outputs": [
    {
     "name": "stdout",
     "output_type": "stream",
     "text": [
      "<class 'pandas.core.frame.DataFrame'>\n",
      "Int64Index: 21631 entries, 0 to 21630\n",
      "Data columns (total 17 columns):\n",
      " #   Column                   Non-Null Count  Dtype  \n",
      "---  ------                   --------------  -----  \n",
      " 0   description              21630 non-null  object \n",
      " 1   yearpublished            21631 non-null  int64  \n",
      " 2   minplayers               21631 non-null  int64  \n",
      " 3   maxplayers               21631 non-null  int64  \n",
      " 4   playingtime              21631 non-null  int64  \n",
      " 5   minplaytime              21631 non-null  int64  \n",
      " 6   maxplaytime              21631 non-null  int64  \n",
      " 7   minage                   21631 non-null  int64  \n",
      " 8   boardgamecategory        21348 non-null  object \n",
      " 9   boardgamemechanic        20041 non-null  object \n",
      " 10  boardgamefamily          17870 non-null  object \n",
      " 11  boardgameexpansion       5506 non-null   object \n",
      " 12  boardgameimplementation  4862 non-null   object \n",
      " 13  boardgamedesigner        21035 non-null  object \n",
      " 14  boardgameartist          15724 non-null  object \n",
      " 15  boardgamepublisher       21630 non-null  object \n",
      " 16  average                  21631 non-null  float64\n",
      "dtypes: float64(1), int64(7), object(9)\n",
      "memory usage: 3.0+ MB\n"
     ]
    }
   ],
   "source": [
    "boardgame_df.info()"
   ]
  },
  {
   "cell_type": "markdown",
   "id": "f8ed3571-9be7-4b72-ab7d-7453dc9b20d4",
   "metadata": {},
   "source": [
    "Seeing that there are many missing values for `boardgameexpansion` and `boardgameimplementation`, we will drop those columns. Since the columns `description`, `boardgamecategory`, `boardgamemechanic`, `boardgamefamily`, `boardgameartist`, and `boardgamepublisher` also have some missing values in each column, we will drop the rows that contain missing values for those columns. This will also help reduce the overall size of the dataset so it is easier to work with.  \n",
    "The list like values of `boardgamecategory`, `boardgamemechanic`, `boardgamefamily`, `boardgameartist`, and `boardgamepublisher` are being read in as strings by `read_csv`, so we will also need to process them to change them to actual lists."
   ]
  },
  {
   "cell_type": "code",
   "execution_count": 8,
   "id": "6f76963e-fe7d-4f3c-a0e8-3e87dd60f77c",
   "metadata": {},
   "outputs": [],
   "source": [
    "boardgame_df = boardgame_df.drop(columns=[\"boardgameexpansion\", \"boardgameimplementation\"])\n",
    "boardgame_df = boardgame_df.dropna()\n",
    "categorical_features = [\"boardgamecategory\", \"boardgamemechanic\", \"boardgamefamily\", \"boardgameartist\", \"boardgamepublisher\"]\n",
    "for feat in categorical_features:\n",
    "    boardgame_df[feat] = boardgame_df[feat].apply(literal_eval)"
   ]
  },
  {
   "cell_type": "code",
   "execution_count": 9,
   "id": "fb9734f4-af5e-44ea-8051-28d628c7a123",
   "metadata": {},
   "outputs": [
    {
     "data": {
      "text/plain": [
       "True"
      ]
     },
     "execution_count": 9,
     "metadata": {},
     "output_type": "execute_result"
    }
   ],
   "source": [
    "type(boardgame_df[\"boardgamemechanic\"].loc[0]) == list"
   ]
  },
  {
   "cell_type": "markdown",
   "id": "cdf01550-3dcb-4d0b-bee5-3bc53f64814e",
   "metadata": {},
   "source": [
    "After clearning up the dataset, we can now split the dataset into a training and testing portion and perform EDA."
   ]
  },
  {
   "cell_type": "code",
   "execution_count": 10,
   "id": "b22f8bf4-702c-44ec-a646-10dda39920a1",
   "metadata": {},
   "outputs": [],
   "source": [
    "train_df, test_df = train_test_split(boardgame_df, test_size=0.5, random_state=42)"
   ]
  },
  {
   "cell_type": "markdown",
   "id": "e75d6ff3-ec6b-4fd8-a77f-ebf9d69a3d8d",
   "metadata": {},
   "source": [
    "<br>"
   ]
  },
  {
   "cell_type": "markdown",
   "id": "54a3e3c3-ffa4-46db-9507-bdac6c6bdc6f",
   "metadata": {},
   "source": [
    "**Table 5: Showing non-missing values and types of each column.**"
   ]
  },
  {
   "cell_type": "code",
   "execution_count": 11,
   "id": "5e2beeff-1ced-47de-ba83-43184fdab46c",
   "metadata": {},
   "outputs": [
    {
     "name": "stdout",
     "output_type": "stream",
     "text": [
      "<class 'pandas.core.frame.DataFrame'>\n",
      "Int64Index: 6241 entries, 15682 to 10191\n",
      "Data columns (total 15 columns):\n",
      " #   Column              Non-Null Count  Dtype  \n",
      "---  ------              --------------  -----  \n",
      " 0   description         6241 non-null   object \n",
      " 1   yearpublished       6241 non-null   int64  \n",
      " 2   minplayers          6241 non-null   int64  \n",
      " 3   maxplayers          6241 non-null   int64  \n",
      " 4   playingtime         6241 non-null   int64  \n",
      " 5   minplaytime         6241 non-null   int64  \n",
      " 6   maxplaytime         6241 non-null   int64  \n",
      " 7   minage              6241 non-null   int64  \n",
      " 8   boardgamecategory   6241 non-null   object \n",
      " 9   boardgamemechanic   6241 non-null   object \n",
      " 10  boardgamefamily     6241 non-null   object \n",
      " 11  boardgamedesigner   6241 non-null   object \n",
      " 12  boardgameartist     6241 non-null   object \n",
      " 13  boardgamepublisher  6241 non-null   object \n",
      " 14  average             6241 non-null   float64\n",
      "dtypes: float64(1), int64(7), object(7)\n",
      "memory usage: 780.1+ KB\n"
     ]
    }
   ],
   "source": [
    "train_df.info()"
   ]
  },
  {
   "cell_type": "markdown",
   "id": "55cb6afe-e1c9-4286-9c50-d0f80091483d",
   "metadata": {},
   "source": [
    "After preprocessing the data, we have gotten rid of all rows with missing values. This makes it easier to create the model later on."
   ]
  },
  {
   "cell_type": "markdown",
   "id": "e977ca83-ec31-49fc-8f0b-aa17dfa7d548",
   "metadata": {},
   "source": [
    "<br>"
   ]
  },
  {
   "cell_type": "markdown",
   "id": "6dc0da73-a668-43cc-9be7-31e7d5a01e12",
   "metadata": {},
   "source": [
    "**Table 6: Information about distribution of features**"
   ]
  },
  {
   "cell_type": "code",
   "execution_count": 12,
   "id": "537b7775-4f42-4c4e-b4e7-d383532ac160",
   "metadata": {},
   "outputs": [
    {
     "data": {
      "text/html": [
       "<div>\n",
       "<style scoped>\n",
       "    .dataframe tbody tr th:only-of-type {\n",
       "        vertical-align: middle;\n",
       "    }\n",
       "\n",
       "    .dataframe tbody tr th {\n",
       "        vertical-align: top;\n",
       "    }\n",
       "\n",
       "    .dataframe thead th {\n",
       "        text-align: right;\n",
       "    }\n",
       "</style>\n",
       "<table border=\"1\" class=\"dataframe\">\n",
       "  <thead>\n",
       "    <tr style=\"text-align: right;\">\n",
       "      <th></th>\n",
       "      <th>description</th>\n",
       "      <th>yearpublished</th>\n",
       "      <th>minplayers</th>\n",
       "      <th>maxplayers</th>\n",
       "      <th>playingtime</th>\n",
       "      <th>minplaytime</th>\n",
       "      <th>maxplaytime</th>\n",
       "      <th>minage</th>\n",
       "      <th>boardgamecategory</th>\n",
       "      <th>boardgamemechanic</th>\n",
       "      <th>boardgamefamily</th>\n",
       "      <th>boardgamedesigner</th>\n",
       "      <th>boardgameartist</th>\n",
       "      <th>boardgamepublisher</th>\n",
       "      <th>average</th>\n",
       "    </tr>\n",
       "  </thead>\n",
       "  <tbody>\n",
       "    <tr>\n",
       "      <th>count</th>\n",
       "      <td>6241</td>\n",
       "      <td>6241.000000</td>\n",
       "      <td>6241.000000</td>\n",
       "      <td>6241.000000</td>\n",
       "      <td>6241.000000</td>\n",
       "      <td>6241.000000</td>\n",
       "      <td>6241.000000</td>\n",
       "      <td>6241.000000</td>\n",
       "      <td>6241</td>\n",
       "      <td>6241</td>\n",
       "      <td>6241</td>\n",
       "      <td>6241</td>\n",
       "      <td>6241</td>\n",
       "      <td>6241</td>\n",
       "      <td>6241.000000</td>\n",
       "    </tr>\n",
       "    <tr>\n",
       "      <th>unique</th>\n",
       "      <td>6236</td>\n",
       "      <td>NaN</td>\n",
       "      <td>NaN</td>\n",
       "      <td>NaN</td>\n",
       "      <td>NaN</td>\n",
       "      <td>NaN</td>\n",
       "      <td>NaN</td>\n",
       "      <td>NaN</td>\n",
       "      <td>2806</td>\n",
       "      <td>3617</td>\n",
       "      <td>4585</td>\n",
       "      <td>3698</td>\n",
       "      <td>4186</td>\n",
       "      <td>3928</td>\n",
       "      <td>NaN</td>\n",
       "    </tr>\n",
       "    <tr>\n",
       "      <th>top</th>\n",
       "      <td>An expansion to the creativity game Rory's Sto...</td>\n",
       "      <td>NaN</td>\n",
       "      <td>NaN</td>\n",
       "      <td>NaN</td>\n",
       "      <td>NaN</td>\n",
       "      <td>NaN</td>\n",
       "      <td>NaN</td>\n",
       "      <td>NaN</td>\n",
       "      <td>[Wargame, World War II]</td>\n",
       "      <td>[Hexagon Grid]</td>\n",
       "      <td>[Crowdfunding: Kickstarter]</td>\n",
       "      <td>['(Uncredited)']</td>\n",
       "      <td>[(Uncredited)]</td>\n",
       "      <td>[GMT Games]</td>\n",
       "      <td>NaN</td>\n",
       "    </tr>\n",
       "    <tr>\n",
       "      <th>freq</th>\n",
       "      <td>2</td>\n",
       "      <td>NaN</td>\n",
       "      <td>NaN</td>\n",
       "      <td>NaN</td>\n",
       "      <td>NaN</td>\n",
       "      <td>NaN</td>\n",
       "      <td>NaN</td>\n",
       "      <td>NaN</td>\n",
       "      <td>333</td>\n",
       "      <td>143</td>\n",
       "      <td>315</td>\n",
       "      <td>102</td>\n",
       "      <td>91</td>\n",
       "      <td>108</td>\n",
       "      <td>NaN</td>\n",
       "    </tr>\n",
       "    <tr>\n",
       "      <th>mean</th>\n",
       "      <td>NaN</td>\n",
       "      <td>2000.785772</td>\n",
       "      <td>1.928858</td>\n",
       "      <td>4.961224</td>\n",
       "      <td>112.418843</td>\n",
       "      <td>70.064253</td>\n",
       "      <td>112.418843</td>\n",
       "      <td>9.994873</td>\n",
       "      <td>NaN</td>\n",
       "      <td>NaN</td>\n",
       "      <td>NaN</td>\n",
       "      <td>NaN</td>\n",
       "      <td>NaN</td>\n",
       "      <td>NaN</td>\n",
       "      <td>6.676260</td>\n",
       "    </tr>\n",
       "    <tr>\n",
       "      <th>std</th>\n",
       "      <td>NaN</td>\n",
       "      <td>148.609226</td>\n",
       "      <td>0.682005</td>\n",
       "      <td>7.555549</td>\n",
       "      <td>428.695447</td>\n",
       "      <td>195.775608</td>\n",
       "      <td>428.695447</td>\n",
       "      <td>3.547431</td>\n",
       "      <td>NaN</td>\n",
       "      <td>NaN</td>\n",
       "      <td>NaN</td>\n",
       "      <td>NaN</td>\n",
       "      <td>NaN</td>\n",
       "      <td>NaN</td>\n",
       "      <td>0.826607</td>\n",
       "    </tr>\n",
       "    <tr>\n",
       "      <th>min</th>\n",
       "      <td>NaN</td>\n",
       "      <td>-3500.000000</td>\n",
       "      <td>0.000000</td>\n",
       "      <td>0.000000</td>\n",
       "      <td>0.000000</td>\n",
       "      <td>0.000000</td>\n",
       "      <td>0.000000</td>\n",
       "      <td>0.000000</td>\n",
       "      <td>NaN</td>\n",
       "      <td>NaN</td>\n",
       "      <td>NaN</td>\n",
       "      <td>NaN</td>\n",
       "      <td>NaN</td>\n",
       "      <td>NaN</td>\n",
       "      <td>2.250000</td>\n",
       "    </tr>\n",
       "    <tr>\n",
       "      <th>25%</th>\n",
       "      <td>NaN</td>\n",
       "      <td>2005.000000</td>\n",
       "      <td>2.000000</td>\n",
       "      <td>2.000000</td>\n",
       "      <td>30.000000</td>\n",
       "      <td>20.000000</td>\n",
       "      <td>30.000000</td>\n",
       "      <td>8.000000</td>\n",
       "      <td>NaN</td>\n",
       "      <td>NaN</td>\n",
       "      <td>NaN</td>\n",
       "      <td>NaN</td>\n",
       "      <td>NaN</td>\n",
       "      <td>NaN</td>\n",
       "      <td>6.160000</td>\n",
       "    </tr>\n",
       "    <tr>\n",
       "      <th>50%</th>\n",
       "      <td>NaN</td>\n",
       "      <td>2013.000000</td>\n",
       "      <td>2.000000</td>\n",
       "      <td>4.000000</td>\n",
       "      <td>60.000000</td>\n",
       "      <td>45.000000</td>\n",
       "      <td>60.000000</td>\n",
       "      <td>10.000000</td>\n",
       "      <td>NaN</td>\n",
       "      <td>NaN</td>\n",
       "      <td>NaN</td>\n",
       "      <td>NaN</td>\n",
       "      <td>NaN</td>\n",
       "      <td>NaN</td>\n",
       "      <td>6.690000</td>\n",
       "    </tr>\n",
       "    <tr>\n",
       "      <th>75%</th>\n",
       "      <td>NaN</td>\n",
       "      <td>2017.000000</td>\n",
       "      <td>2.000000</td>\n",
       "      <td>5.000000</td>\n",
       "      <td>120.000000</td>\n",
       "      <td>60.000000</td>\n",
       "      <td>120.000000</td>\n",
       "      <td>12.000000</td>\n",
       "      <td>NaN</td>\n",
       "      <td>NaN</td>\n",
       "      <td>NaN</td>\n",
       "      <td>NaN</td>\n",
       "      <td>NaN</td>\n",
       "      <td>NaN</td>\n",
       "      <td>7.230000</td>\n",
       "    </tr>\n",
       "    <tr>\n",
       "      <th>max</th>\n",
       "      <td>NaN</td>\n",
       "      <td>2022.000000</td>\n",
       "      <td>8.000000</td>\n",
       "      <td>127.000000</td>\n",
       "      <td>14400.000000</td>\n",
       "      <td>12000.000000</td>\n",
       "      <td>14400.000000</td>\n",
       "      <td>21.000000</td>\n",
       "      <td>NaN</td>\n",
       "      <td>NaN</td>\n",
       "      <td>NaN</td>\n",
       "      <td>NaN</td>\n",
       "      <td>NaN</td>\n",
       "      <td>NaN</td>\n",
       "      <td>9.310000</td>\n",
       "    </tr>\n",
       "  </tbody>\n",
       "</table>\n",
       "</div>"
      ],
      "text/plain": [
       "                                              description  yearpublished  \\\n",
       "count                                                6241    6241.000000   \n",
       "unique                                               6236            NaN   \n",
       "top     An expansion to the creativity game Rory's Sto...            NaN   \n",
       "freq                                                    2            NaN   \n",
       "mean                                                  NaN    2000.785772   \n",
       "std                                                   NaN     148.609226   \n",
       "min                                                   NaN   -3500.000000   \n",
       "25%                                                   NaN    2005.000000   \n",
       "50%                                                   NaN    2013.000000   \n",
       "75%                                                   NaN    2017.000000   \n",
       "max                                                   NaN    2022.000000   \n",
       "\n",
       "         minplayers   maxplayers   playingtime   minplaytime   maxplaytime  \\\n",
       "count   6241.000000  6241.000000   6241.000000   6241.000000   6241.000000   \n",
       "unique          NaN          NaN           NaN           NaN           NaN   \n",
       "top             NaN          NaN           NaN           NaN           NaN   \n",
       "freq            NaN          NaN           NaN           NaN           NaN   \n",
       "mean       1.928858     4.961224    112.418843     70.064253    112.418843   \n",
       "std        0.682005     7.555549    428.695447    195.775608    428.695447   \n",
       "min        0.000000     0.000000      0.000000      0.000000      0.000000   \n",
       "25%        2.000000     2.000000     30.000000     20.000000     30.000000   \n",
       "50%        2.000000     4.000000     60.000000     45.000000     60.000000   \n",
       "75%        2.000000     5.000000    120.000000     60.000000    120.000000   \n",
       "max        8.000000   127.000000  14400.000000  12000.000000  14400.000000   \n",
       "\n",
       "             minage        boardgamecategory boardgamemechanic  \\\n",
       "count   6241.000000                     6241              6241   \n",
       "unique          NaN                     2806              3617   \n",
       "top             NaN  [Wargame, World War II]    [Hexagon Grid]   \n",
       "freq            NaN                      333               143   \n",
       "mean       9.994873                      NaN               NaN   \n",
       "std        3.547431                      NaN               NaN   \n",
       "min        0.000000                      NaN               NaN   \n",
       "25%        8.000000                      NaN               NaN   \n",
       "50%       10.000000                      NaN               NaN   \n",
       "75%       12.000000                      NaN               NaN   \n",
       "max       21.000000                      NaN               NaN   \n",
       "\n",
       "                    boardgamefamily boardgamedesigner boardgameartist  \\\n",
       "count                          6241              6241            6241   \n",
       "unique                         4585              3698            4186   \n",
       "top     [Crowdfunding: Kickstarter]  ['(Uncredited)']  [(Uncredited)]   \n",
       "freq                            315               102              91   \n",
       "mean                            NaN               NaN             NaN   \n",
       "std                             NaN               NaN             NaN   \n",
       "min                             NaN               NaN             NaN   \n",
       "25%                             NaN               NaN             NaN   \n",
       "50%                             NaN               NaN             NaN   \n",
       "75%                             NaN               NaN             NaN   \n",
       "max                             NaN               NaN             NaN   \n",
       "\n",
       "       boardgamepublisher      average  \n",
       "count                6241  6241.000000  \n",
       "unique               3928          NaN  \n",
       "top           [GMT Games]          NaN  \n",
       "freq                  108          NaN  \n",
       "mean                  NaN     6.676260  \n",
       "std                   NaN     0.826607  \n",
       "min                   NaN     2.250000  \n",
       "25%                   NaN     6.160000  \n",
       "50%                   NaN     6.690000  \n",
       "75%                   NaN     7.230000  \n",
       "max                   NaN     9.310000  "
      ]
     },
     "execution_count": 12,
     "metadata": {},
     "output_type": "execute_result"
    }
   ],
   "source": [
    "train_df.describe(include=\"all\")"
   ]
  },
  {
   "cell_type": "markdown",
   "id": "f4442505-8cba-46ae-9e08-c06b83206805",
   "metadata": {},
   "source": [
    "From these tables, we can see that the features are a mix of numeric, categorical, and text features. There are missing values in some columns that will need to be handled. Furthermore, we note that the numeric features have varying scales in their range of values."
   ]
  },
  {
   "cell_type": "markdown",
   "id": "d0c40387-ae81-4e6a-95f1-b3d565aa4bd1",
   "metadata": {},
   "source": [
    "<br>"
   ]
  },
  {
   "cell_type": "code",
   "execution_count": 13,
   "id": "19247511-3a2b-4ae3-b2b8-a3c1bd2ad940",
   "metadata": {},
   "outputs": [
    {
     "data": {
      "application/vnd.vegalite.v4+json": {
       "$schema": "https://vega.github.io/schema/vega-lite/v4.17.0.json",
       "config": {
        "view": {
         "continuousHeight": 300,
         "continuousWidth": 400
        }
       },
       "data": {
        "url": "http://localhost:51455/bd2804eb671d8ff6efd5b2b8ca6ffa5d.json"
       },
       "encoding": {
        "x": {
         "bin": {
          "maxbins": 30
         },
         "field": "average",
         "title": "Average Rating",
         "type": "quantitative"
        },
        "y": {
         "aggregate": "count",
         "title": "Count",
         "type": "quantitative"
        }
       },
       "mark": "bar",
       "title": "Distribution of Average Rating"
      },
      "image/png": "[encoded data removed]",
      "text/plain": [
       "<VegaLite 4 object>\n",
       "\n",
       "If you see this message, it means the renderer has not been properly enabled\n",
       "for the frontend that you are using. For more information, see\n",
       "https://altair-viz.github.io/user_guide/troubleshooting.html\n"
      ]
     },
     "execution_count": 13,
     "metadata": {},
     "output_type": "execute_result"
    }
   ],
   "source": [
    "rating_plot = alt.Chart(\n",
    "    train_df,\n",
    "    title = \"Distribution of Average Rating\"\n",
    ").mark_bar().encode(\n",
    "    x = alt.X(\"average\", bin=alt.Bin(maxbins=30), title=\"Average Rating\"),\n",
    "    y = alt.Y(\"count()\", title=\"Count\")\n",
    ")\n",
    "rating_plot"
   ]
  },
  {
   "cell_type": "markdown",
   "id": "b84c4527-fa87-4d62-905a-96b35bf1678e",
   "metadata": {},
   "source": [
    "**Figure 1: Distribution of the average ratings of board games.**"
   ]
  },
  {
   "cell_type": "markdown",
   "id": "c71a96f6-9370-48b9-a108-7772fff4361a",
   "metadata": {},
   "source": [
    "It appears that most average ratings of board games are around 6-7, and the distribution resembles a bell shape. There are some ratings that are very high (9.31) and some very low (2.25), but values are somewhere in the midranges."
   ]
  },
  {
   "cell_type": "markdown",
   "id": "54e6916a-637a-4b1a-8e1e-2742dabff52a",
   "metadata": {},
   "source": [
    "<br>"
   ]
  },
  {
   "cell_type": "code",
   "execution_count": 14,
   "id": "dacba2bf-2ff4-40ad-a346-aafc12452e9a",
   "metadata": {},
   "outputs": [
    {
     "data": {
      "application/vnd.vegalite.v4+json": {
       "$schema": "https://vega.github.io/schema/vega-lite/v4.17.0.json",
       "columns": 3,
       "config": {
        "view": {
         "continuousHeight": 300,
         "continuousWidth": 400
        }
       },
       "repeat": [
        "yearpublished",
        "minplayers",
        "maxplayers",
        "playingtime",
        "minplaytime",
        "maxplaytime",
        "minage"
       ],
       "spec": {
        "data": {
         "url": "http://localhost:51455/bd2804eb671d8ff6efd5b2b8ca6ffa5d.json"
        },
        "encoding": {
         "x": {
          "field": {
           "repeat": "repeat"
          },
          "type": "quantitative"
         },
         "y": {
          "aggregate": "count",
          "type": "quantitative"
         }
        },
        "height": 200,
        "mark": "bar",
        "width": 200
       },
       "title": {
        "anchor": "middle",
        "text": "Distribution of Numeric Features"
       }
      },
      "image/png": "[encoded data removed]",
      "text/plain": [
       "<VegaLite 4 object>\n",
       "\n",
       "If you see this message, it means the renderer has not been properly enabled\n",
       "for the frontend that you are using. For more information, see\n",
       "https://altair-viz.github.io/user_guide/troubleshooting.html\n"
      ]
     },
     "execution_count": 14,
     "metadata": {},
     "output_type": "execute_result"
    }
   ],
   "source": [
    "numeric_feats = train_df.select_dtypes(include=\"number\").columns.tolist()[0:-1]\n",
    "numeric_feats_bar_chart = alt.Chart(train_df).mark_bar().encode(\n",
    "    x = alt.X(alt.repeat(), type=\"quantitative\"),\n",
    "    y = \"count()\"\n",
    ").properties(\n",
    "    width=200,\n",
    "    height=200\n",
    ").repeat(\n",
    "    numeric_feats,\n",
    "    columns=3\n",
    ")\n",
    "numeric_feats_bar_chart.properties(title = alt.TitleParams(text=\"Distribution of Numeric Features\", anchor=\"middle\"))"
   ]
  },
  {
   "cell_type": "markdown",
   "id": "fcbf0f2e-258a-4d0f-b2f9-78f4733dfff5",
   "metadata": {},
   "source": [
    "**Figure 2: Distribution of numeric features.**"
   ]
  },
  {
   "cell_type": "markdown",
   "id": "027f2e3f-20fc-44bc-bd07-681f236f1e86",
   "metadata": {},
   "source": [
    "Looking at the distribution of each numeric feature, we can see that most numeric features are heavily right skewed, such as with `maxplayers`, `playingtime`, `minplaytime`, and `maxplaytime`. This is mostly inline with expectations: most games are usually played with 2-8 players, and playing times usually range from 1-2 hours. The `yearpublished` feature seems to have some weird values that do not make sense, such as years in the negative range."
   ]
  },
  {
   "cell_type": "markdown",
   "id": "ebe93c5b-7440-49f3-99b5-c90af8d1940d",
   "metadata": {},
   "source": [
    "<br>"
   ]
  },
  {
   "cell_type": "code",
   "execution_count": 15,
   "id": "aa326d69-edef-4f73-bf75-25a930970d03",
   "metadata": {},
   "outputs": [
    {
     "data": {
      "text/html": [
       "<style type=\"text/css\">\n",
       "#T_99e1e_row0_col0, #T_99e1e_row1_col1, #T_99e1e_row2_col2, #T_99e1e_row3_col3, #T_99e1e_row3_col5, #T_99e1e_row4_col4, #T_99e1e_row5_col3, #T_99e1e_row5_col5, #T_99e1e_row6_col6, #T_99e1e_row7_col7 {\n",
       "  background-color: #023858;\n",
       "  color: #f1f1f1;\n",
       "}\n",
       "#T_99e1e_row0_col1 {\n",
       "  background-color: #fbf3f9;\n",
       "  color: #000000;\n",
       "}\n",
       "#T_99e1e_row0_col2 {\n",
       "  background-color: #d5d5e8;\n",
       "  color: #000000;\n",
       "}\n",
       "#T_99e1e_row0_col3, #T_99e1e_row0_col5, #T_99e1e_row3_col2, #T_99e1e_row5_col2 {\n",
       "  background-color: #fbf4f9;\n",
       "  color: #000000;\n",
       "}\n",
       "#T_99e1e_row0_col4, #T_99e1e_row1_col3, #T_99e1e_row1_col5, #T_99e1e_row1_col6, #T_99e1e_row1_col7, #T_99e1e_row2_col3, #T_99e1e_row2_col5, #T_99e1e_row4_col0, #T_99e1e_row7_col1, #T_99e1e_row7_col2 {\n",
       "  background-color: #fff7fb;\n",
       "  color: #000000;\n",
       "}\n",
       "#T_99e1e_row0_col6 {\n",
       "  background-color: #e7e3f0;\n",
       "  color: #000000;\n",
       "}\n",
       "#T_99e1e_row0_col7 {\n",
       "  background-color: #67a4cc;\n",
       "  color: #f1f1f1;\n",
       "}\n",
       "#T_99e1e_row1_col0 {\n",
       "  background-color: #f7f0f7;\n",
       "  color: #000000;\n",
       "}\n",
       "#T_99e1e_row1_col2 {\n",
       "  background-color: #b1c2de;\n",
       "  color: #000000;\n",
       "}\n",
       "#T_99e1e_row1_col4 {\n",
       "  background-color: #dfddec;\n",
       "  color: #000000;\n",
       "}\n",
       "#T_99e1e_row2_col0 {\n",
       "  background-color: #c0c9e2;\n",
       "  color: #000000;\n",
       "}\n",
       "#T_99e1e_row2_col1 {\n",
       "  background-color: #a1bbda;\n",
       "  color: #000000;\n",
       "}\n",
       "#T_99e1e_row2_col4 {\n",
       "  background-color: #efe9f3;\n",
       "  color: #000000;\n",
       "}\n",
       "#T_99e1e_row2_col6 {\n",
       "  background-color: #f9f2f8;\n",
       "  color: #000000;\n",
       "}\n",
       "#T_99e1e_row2_col7 {\n",
       "  background-color: #f5eef6;\n",
       "  color: #000000;\n",
       "}\n",
       "#T_99e1e_row3_col0, #T_99e1e_row5_col0 {\n",
       "  background-color: #eae6f1;\n",
       "  color: #000000;\n",
       "}\n",
       "#T_99e1e_row3_col1, #T_99e1e_row5_col1 {\n",
       "  background-color: #f1ebf5;\n",
       "  color: #000000;\n",
       "}\n",
       "#T_99e1e_row3_col4, #T_99e1e_row5_col4 {\n",
       "  background-color: #034e7b;\n",
       "  color: #f1f1f1;\n",
       "}\n",
       "#T_99e1e_row3_col6, #T_99e1e_row5_col6 {\n",
       "  background-color: #79abd0;\n",
       "  color: #f1f1f1;\n",
       "}\n",
       "#T_99e1e_row3_col7, #T_99e1e_row5_col7 {\n",
       "  background-color: #73a9cf;\n",
       "  color: #f1f1f1;\n",
       "}\n",
       "#T_99e1e_row4_col1 {\n",
       "  background-color: #e3e0ee;\n",
       "  color: #000000;\n",
       "}\n",
       "#T_99e1e_row4_col2 {\n",
       "  background-color: #fdf5fa;\n",
       "  color: #000000;\n",
       "}\n",
       "#T_99e1e_row4_col3, #T_99e1e_row4_col5 {\n",
       "  background-color: #045280;\n",
       "  color: #f1f1f1;\n",
       "}\n",
       "#T_99e1e_row4_col6, #T_99e1e_row7_col3, #T_99e1e_row7_col5 {\n",
       "  background-color: #86b0d3;\n",
       "  color: #000000;\n",
       "}\n",
       "#T_99e1e_row4_col7 {\n",
       "  background-color: #9ab8d8;\n",
       "  color: #000000;\n",
       "}\n",
       "#T_99e1e_row6_col0 {\n",
       "  background-color: #c8cde4;\n",
       "  color: #000000;\n",
       "}\n",
       "#T_99e1e_row6_col1 {\n",
       "  background-color: #ede7f2;\n",
       "  color: #000000;\n",
       "}\n",
       "#T_99e1e_row6_col2 {\n",
       "  background-color: #f0eaf4;\n",
       "  color: #000000;\n",
       "}\n",
       "#T_99e1e_row6_col3, #T_99e1e_row6_col5 {\n",
       "  background-color: #71a8ce;\n",
       "  color: #f1f1f1;\n",
       "}\n",
       "#T_99e1e_row6_col4, #T_99e1e_row7_col0 {\n",
       "  background-color: #62a2cb;\n",
       "  color: #f1f1f1;\n",
       "}\n",
       "#T_99e1e_row6_col7 {\n",
       "  background-color: #99b8d8;\n",
       "  color: #000000;\n",
       "}\n",
       "#T_99e1e_row7_col4 {\n",
       "  background-color: #96b6d7;\n",
       "  color: #000000;\n",
       "}\n",
       "#T_99e1e_row7_col6 {\n",
       "  background-color: #b8c6e0;\n",
       "  color: #000000;\n",
       "}\n",
       "</style>\n",
       "<table id=\"T_99e1e\">\n",
       "  <thead>\n",
       "    <tr>\n",
       "      <th class=\"blank level0\" >&nbsp;</th>\n",
       "      <th id=\"T_99e1e_level0_col0\" class=\"col_heading level0 col0\" >yearpublished</th>\n",
       "      <th id=\"T_99e1e_level0_col1\" class=\"col_heading level0 col1\" >minplayers</th>\n",
       "      <th id=\"T_99e1e_level0_col2\" class=\"col_heading level0 col2\" >maxplayers</th>\n",
       "      <th id=\"T_99e1e_level0_col3\" class=\"col_heading level0 col3\" >playingtime</th>\n",
       "      <th id=\"T_99e1e_level0_col4\" class=\"col_heading level0 col4\" >minplaytime</th>\n",
       "      <th id=\"T_99e1e_level0_col5\" class=\"col_heading level0 col5\" >maxplaytime</th>\n",
       "      <th id=\"T_99e1e_level0_col6\" class=\"col_heading level0 col6\" >minage</th>\n",
       "      <th id=\"T_99e1e_level0_col7\" class=\"col_heading level0 col7\" >average</th>\n",
       "    </tr>\n",
       "  </thead>\n",
       "  <tbody>\n",
       "    <tr>\n",
       "      <th id=\"T_99e1e_level0_row0\" class=\"row_heading level0 row0\" >yearpublished</th>\n",
       "      <td id=\"T_99e1e_row0_col0\" class=\"data row0 col0\" >1.000000</td>\n",
       "      <td id=\"T_99e1e_row0_col1\" class=\"data row0 col1\" >-0.210202</td>\n",
       "      <td id=\"T_99e1e_row0_col2\" class=\"data row0 col2\" >0.105070</td>\n",
       "      <td id=\"T_99e1e_row0_col3\" class=\"data row0 col3\" >-0.105236</td>\n",
       "      <td id=\"T_99e1e_row0_col4\" class=\"data row0 col4\" >-0.278300</td>\n",
       "      <td id=\"T_99e1e_row0_col5\" class=\"data row0 col5\" >-0.105236</td>\n",
       "      <td id=\"T_99e1e_row0_col6\" class=\"data row0 col6\" >0.074648</td>\n",
       "      <td id=\"T_99e1e_row0_col7\" class=\"data row0 col7\" >0.408366</td>\n",
       "    </tr>\n",
       "    <tr>\n",
       "      <th id=\"T_99e1e_level0_row1\" class=\"row_heading level0 row1\" >minplayers</th>\n",
       "      <td id=\"T_99e1e_row1_col0\" class=\"data row1 col0\" >-0.210202</td>\n",
       "      <td id=\"T_99e1e_row1_col1\" class=\"data row1 col1\" >1.000000</td>\n",
       "      <td id=\"T_99e1e_row1_col2\" class=\"data row1 col2\" >0.236674</td>\n",
       "      <td id=\"T_99e1e_row1_col3\" class=\"data row1 col3\" >-0.129654</td>\n",
       "      <td id=\"T_99e1e_row1_col4\" class=\"data row1 col4\" >-0.039540</td>\n",
       "      <td id=\"T_99e1e_row1_col5\" class=\"data row1 col5\" >-0.129654</td>\n",
       "      <td id=\"T_99e1e_row1_col6\" class=\"data row1 col6\" >-0.091284</td>\n",
       "      <td id=\"T_99e1e_row1_col7\" class=\"data row1 col7\" >-0.246116</td>\n",
       "    </tr>\n",
       "    <tr>\n",
       "      <th id=\"T_99e1e_level0_row2\" class=\"row_heading level0 row2\" >maxplayers</th>\n",
       "      <td id=\"T_99e1e_row2_col0\" class=\"data row2 col0\" >0.105070</td>\n",
       "      <td id=\"T_99e1e_row2_col1\" class=\"data row2 col1\" >0.236674</td>\n",
       "      <td id=\"T_99e1e_row2_col2\" class=\"data row2 col2\" >1.000000</td>\n",
       "      <td id=\"T_99e1e_row2_col3\" class=\"data row2 col3\" >-0.133306</td>\n",
       "      <td id=\"T_99e1e_row2_col4\" class=\"data row2 col4\" >-0.142949</td>\n",
       "      <td id=\"T_99e1e_row2_col5\" class=\"data row2 col5\" >-0.133306</td>\n",
       "      <td id=\"T_99e1e_row2_col6\" class=\"data row2 col6\" >-0.047632</td>\n",
       "      <td id=\"T_99e1e_row2_col7\" class=\"data row2 col7\" >-0.162838</td>\n",
       "    </tr>\n",
       "    <tr>\n",
       "      <th id=\"T_99e1e_level0_row3\" class=\"row_heading level0 row3\" >playingtime</th>\n",
       "      <td id=\"T_99e1e_row3_col0\" class=\"data row3 col0\" >-0.105236</td>\n",
       "      <td id=\"T_99e1e_row3_col1\" class=\"data row3 col1\" >-0.129654</td>\n",
       "      <td id=\"T_99e1e_row3_col2\" class=\"data row3 col2\" >-0.133306</td>\n",
       "      <td id=\"T_99e1e_row3_col3\" class=\"data row3 col3\" >1.000000</td>\n",
       "      <td id=\"T_99e1e_row3_col4\" class=\"data row3 col4\" >0.890897</td>\n",
       "      <td id=\"T_99e1e_row3_col5\" class=\"data row3 col5\" >1.000000</td>\n",
       "      <td id=\"T_99e1e_row3_col6\" class=\"data row3 col6\" >0.439326</td>\n",
       "      <td id=\"T_99e1e_row3_col7\" class=\"data row3 col7\" >0.380509</td>\n",
       "    </tr>\n",
       "    <tr>\n",
       "      <th id=\"T_99e1e_level0_row4\" class=\"row_heading level0 row4\" >minplaytime</th>\n",
       "      <td id=\"T_99e1e_row4_col0\" class=\"data row4 col0\" >-0.278300</td>\n",
       "      <td id=\"T_99e1e_row4_col1\" class=\"data row4 col1\" >-0.039540</td>\n",
       "      <td id=\"T_99e1e_row4_col2\" class=\"data row4 col2\" >-0.142949</td>\n",
       "      <td id=\"T_99e1e_row4_col3\" class=\"data row4 col3\" >0.890897</td>\n",
       "      <td id=\"T_99e1e_row4_col4\" class=\"data row4 col4\" >1.000000</td>\n",
       "      <td id=\"T_99e1e_row4_col5\" class=\"data row4 col5\" >0.890897</td>\n",
       "      <td id=\"T_99e1e_row4_col6\" class=\"data row4 col6\" >0.406683</td>\n",
       "      <td id=\"T_99e1e_row4_col7\" class=\"data row4 col7\" >0.255512</td>\n",
       "    </tr>\n",
       "    <tr>\n",
       "      <th id=\"T_99e1e_level0_row5\" class=\"row_heading level0 row5\" >maxplaytime</th>\n",
       "      <td id=\"T_99e1e_row5_col0\" class=\"data row5 col0\" >-0.105236</td>\n",
       "      <td id=\"T_99e1e_row5_col1\" class=\"data row5 col1\" >-0.129654</td>\n",
       "      <td id=\"T_99e1e_row5_col2\" class=\"data row5 col2\" >-0.133306</td>\n",
       "      <td id=\"T_99e1e_row5_col3\" class=\"data row5 col3\" >1.000000</td>\n",
       "      <td id=\"T_99e1e_row5_col4\" class=\"data row5 col4\" >0.890897</td>\n",
       "      <td id=\"T_99e1e_row5_col5\" class=\"data row5 col5\" >1.000000</td>\n",
       "      <td id=\"T_99e1e_row5_col6\" class=\"data row5 col6\" >0.439326</td>\n",
       "      <td id=\"T_99e1e_row5_col7\" class=\"data row5 col7\" >0.380509</td>\n",
       "    </tr>\n",
       "    <tr>\n",
       "      <th id=\"T_99e1e_level0_row6\" class=\"row_heading level0 row6\" >minage</th>\n",
       "      <td id=\"T_99e1e_row6_col0\" class=\"data row6 col0\" >0.074648</td>\n",
       "      <td id=\"T_99e1e_row6_col1\" class=\"data row6 col1\" >-0.091284</td>\n",
       "      <td id=\"T_99e1e_row6_col2\" class=\"data row6 col2\" >-0.047632</td>\n",
       "      <td id=\"T_99e1e_row6_col3\" class=\"data row6 col3\" >0.439326</td>\n",
       "      <td id=\"T_99e1e_row6_col4\" class=\"data row6 col4\" >0.406683</td>\n",
       "      <td id=\"T_99e1e_row6_col5\" class=\"data row6 col5\" >0.439326</td>\n",
       "      <td id=\"T_99e1e_row6_col6\" class=\"data row6 col6\" >1.000000</td>\n",
       "      <td id=\"T_99e1e_row6_col7\" class=\"data row6 col7\" >0.262100</td>\n",
       "    </tr>\n",
       "    <tr>\n",
       "      <th id=\"T_99e1e_level0_row7\" class=\"row_heading level0 row7\" >average</th>\n",
       "      <td id=\"T_99e1e_row7_col0\" class=\"data row7 col0\" >0.408366</td>\n",
       "      <td id=\"T_99e1e_row7_col1\" class=\"data row7 col1\" >-0.246116</td>\n",
       "      <td id=\"T_99e1e_row7_col2\" class=\"data row7 col2\" >-0.162838</td>\n",
       "      <td id=\"T_99e1e_row7_col3\" class=\"data row7 col3\" >0.380509</td>\n",
       "      <td id=\"T_99e1e_row7_col4\" class=\"data row7 col4\" >0.255512</td>\n",
       "      <td id=\"T_99e1e_row7_col5\" class=\"data row7 col5\" >0.380509</td>\n",
       "      <td id=\"T_99e1e_row7_col6\" class=\"data row7 col6\" >0.262100</td>\n",
       "      <td id=\"T_99e1e_row7_col7\" class=\"data row7 col7\" >1.000000</td>\n",
       "    </tr>\n",
       "  </tbody>\n",
       "</table>\n"
      ],
      "text/plain": [
       "<pandas.io.formats.style.Styler at 0x25380c4ccd0>"
      ]
     },
     "execution_count": 15,
     "metadata": {},
     "output_type": "execute_result"
    }
   ],
   "source": [
    "corr_matrix = train_df.corr('spearman').style.background_gradient()\n",
    "corr_matrix"
   ]
  },
  {
   "cell_type": "markdown",
   "id": "9d651665-9808-45e9-afad-6c75479793ae",
   "metadata": {},
   "source": [
    "**Figure 3: Correlation matrix of numeric features and target.**"
   ]
  },
  {
   "cell_type": "code",
   "execution_count": 16,
   "id": "b225a1a8-3c5b-45cf-bb3b-66807747b47f",
   "metadata": {},
   "outputs": [
    {
     "data": {
      "application/vnd.vegalite.v4+json": {
       "$schema": "https://vega.github.io/schema/vega-lite/v4.17.0.json",
       "config": {
        "view": {
         "continuousHeight": 300,
         "continuousWidth": 400
        }
       },
       "data": {
        "url": "http://localhost:51455/bd2804eb671d8ff6efd5b2b8ca6ffa5d.json"
       },
       "hconcat": [
        {
         "encoding": {
          "x": {
           "field": "maxplaytime",
           "type": "quantitative"
          },
          "y": {
           "field": "playingtime",
           "type": "quantitative"
          }
         },
         "mark": "point",
         "title": "Scatterplot of maxplaytime vs playingtime"
        },
        {
         "encoding": {
          "x": {
           "field": "minplaytime",
           "type": "quantitative"
          },
          "y": {
           "field": "maxplaytime",
           "type": "quantitative"
          }
         },
         "mark": "point",
         "title": "Scatterplot of maxplaytime vs minplaytime"
        }
       ],
       "title": {
        "anchor": "middle",
        "text": "Comparing features with high correlation"
       }
      },
      "image/png": "[encoded data removed]",
      "text/plain": [
       "<VegaLite 4 object>\n",
       "\n",
       "If you see this message, it means the renderer has not been properly enabled\n",
       "for the frontend that you are using. For more information, see\n",
       "https://altair-viz.github.io/user_guide/troubleshooting.html\n"
      ]
     },
     "execution_count": 16,
     "metadata": {},
     "output_type": "execute_result"
    }
   ],
   "source": [
    "maxplaytime_vs_playingtime = alt.Chart(\n",
    "    train_df,\n",
    "    title = \"Scatterplot of maxplaytime vs playingtime\"\n",
    ").mark_point().encode(\n",
    "    x = alt.X(\"maxplaytime\"),\n",
    "    y = alt.Y(\"playingtime\")\n",
    ")\n",
    "minplaytime_vs_maxplaytime = alt.Chart(\n",
    "    train_df,\n",
    "    title = \"Scatterplot of maxplaytime vs minplaytime\"\n",
    ").mark_point().encode(\n",
    "    x = alt.X(\"minplaytime\"),\n",
    "    y = alt.Y(\"maxplaytime\")\n",
    ")\n",
    "(maxplaytime_vs_playingtime | minplaytime_vs_maxplaytime).properties(\n",
    "    title = alt.TitleParams(\n",
    "        text = \"Comparing features with high correlation\",\n",
    "        anchor = \"middle\"\n",
    "    )\n",
    ")"
   ]
  },
  {
   "cell_type": "markdown",
   "id": "c3c3cf97-bc22-4965-94b1-4a7cbdd1b871",
   "metadata": {},
   "source": [
    "**Figure 4: Scatterplot comparing features with high correlation.**"
   ]
  },
  {
   "cell_type": "markdown",
   "id": "e6665ab1-9774-4ffb-8874-193c73cd8a78",
   "metadata": {},
   "source": [
    "From the correlation matrix and the plot, we can conclude that `maxplaytime` and `playingtime` have the same values for each row, hence having perfect correlation. This suggests that we can drop the `playingtime` column and it will not affect our model. It appears that `minplaytime` and `maxplaytime` have a positive relationship, although there are still values with a short `minplaytime` and large `maxplaytime`.  \n",
    "We can also see that there is some positive correlation between the features `yearpublished` to `average` as well as between `playingtime` to `average`, suggesting that they may be useful features in our regression task."
   ]
  },
  {
   "cell_type": "markdown",
   "id": "28798f3e-73e2-470f-9068-68da768302f2",
   "metadata": {},
   "source": [
    "<br>\n",
    "For visualization purposes, we augment the training set and add a column to binarize the `average` target column, with values larger than or equal to 7 being \"high\" and values lower being \"low\". Given that the mean and median of `average` are both around 6.6, we try to see if particular categorical features stand out in identifying games with high ratings."
   ]
  },
  {
   "cell_type": "code",
   "execution_count": 17,
   "id": "540f2786-99d9-4487-b481-d743de515856",
   "metadata": {},
   "outputs": [],
   "source": [
    "binarized_rating_df = train_df.copy()\n",
    "    \n",
    "def binarize_rating(row):\n",
    "    if row[\"average\"] >= 7:\n",
    "        rating = \"high\"\n",
    "    else:\n",
    "        rating = \"low\"\n",
    "    return rating\n",
    "binarized_rating_df[\"rating\"] = binarized_rating_df.apply(binarize_rating, axis=1)"
   ]
  },
  {
   "cell_type": "markdown",
   "id": "7080cb76-edc6-42d2-aab1-d0e6f9c22522",
   "metadata": {},
   "source": [
    "**Table 7: Examining the first few rows of the augmented DataFrame**"
   ]
  },
  {
   "cell_type": "code",
   "execution_count": 18,
   "id": "538cf50e-d138-4f3e-9ed4-477de0bb2e49",
   "metadata": {},
   "outputs": [
    {
     "data": {
      "text/html": [
       "<div>\n",
       "<style scoped>\n",
       "    .dataframe tbody tr th:only-of-type {\n",
       "        vertical-align: middle;\n",
       "    }\n",
       "\n",
       "    .dataframe tbody tr th {\n",
       "        vertical-align: top;\n",
       "    }\n",
       "\n",
       "    .dataframe thead th {\n",
       "        text-align: right;\n",
       "    }\n",
       "</style>\n",
       "<table border=\"1\" class=\"dataframe\">\n",
       "  <thead>\n",
       "    <tr style=\"text-align: right;\">\n",
       "      <th></th>\n",
       "      <th>description</th>\n",
       "      <th>yearpublished</th>\n",
       "      <th>minplayers</th>\n",
       "      <th>maxplayers</th>\n",
       "      <th>playingtime</th>\n",
       "      <th>minplaytime</th>\n",
       "      <th>maxplaytime</th>\n",
       "      <th>minage</th>\n",
       "      <th>boardgamecategory</th>\n",
       "      <th>boardgamemechanic</th>\n",
       "      <th>boardgamefamily</th>\n",
       "      <th>boardgamedesigner</th>\n",
       "      <th>boardgameartist</th>\n",
       "      <th>boardgamepublisher</th>\n",
       "      <th>average</th>\n",
       "      <th>rating</th>\n",
       "    </tr>\n",
       "  </thead>\n",
       "  <tbody>\n",
       "    <tr>\n",
       "      <th>15682</th>\n",
       "      <td>A red storm is coming!&amp;#10;&amp;#10;From beneath t...</td>\n",
       "      <td>2011</td>\n",
       "      <td>2</td>\n",
       "      <td>6</td>\n",
       "      <td>30</td>\n",
       "      <td>10</td>\n",
       "      <td>30</td>\n",
       "      <td>12</td>\n",
       "      <td>[Nautical]</td>\n",
       "      <td>[Command Cards, Dice Rolling]</td>\n",
       "      <td>[Digital Implementations: Board Game Arena]</td>\n",
       "      <td>['Christian Boutin']</td>\n",
       "      <td>[Christian Boutin]</td>\n",
       "      <td>[Exequor Studios]</td>\n",
       "      <td>3.59</td>\n",
       "      <td>low</td>\n",
       "    </tr>\n",
       "    <tr>\n",
       "      <th>11585</th>\n",
       "      <td>For What Remains is a skirmish-level series of...</td>\n",
       "      <td>2020</td>\n",
       "      <td>1</td>\n",
       "      <td>2</td>\n",
       "      <td>45</td>\n",
       "      <td>30</td>\n",
       "      <td>45</td>\n",
       "      <td>10</td>\n",
       "      <td>[Science Fiction, Wargame]</td>\n",
       "      <td>[Chit-Pull System, Line of Sight, Modular Boar...</td>\n",
       "      <td>[Series: For What Remains]</td>\n",
       "      <td>['Paul Low', 'David Thompson (I)', 'Ricardo Ma...</td>\n",
       "      <td>[Rick Hershey, David Thompson (I)]</td>\n",
       "      <td>[Dan Verssen Games (DVG)]</td>\n",
       "      <td>8.14</td>\n",
       "      <td>high</td>\n",
       "    </tr>\n",
       "    <tr>\n",
       "      <th>1100</th>\n",
       "      <td>From Eagle Games website:&amp;#10;&amp;#10;Age of Myth...</td>\n",
       "      <td>2003</td>\n",
       "      <td>2</td>\n",
       "      <td>4</td>\n",
       "      <td>120</td>\n",
       "      <td>120</td>\n",
       "      <td>120</td>\n",
       "      <td>10</td>\n",
       "      <td>[Ancient, Civilization, Mythology, Video Game ...</td>\n",
       "      <td>[Campaign / Battle Card Driven, Dice Rolling, ...</td>\n",
       "      <td>[Ancient: Egypt, Country: Egypt, Country: Gree...</td>\n",
       "      <td>['Glenn Drover']</td>\n",
       "      <td>[Fast Forward Design, Gabriel Hernandez, Jacin...</td>\n",
       "      <td>[Beacon Multimedia S.A., Eagle-Gryphon Games, ...</td>\n",
       "      <td>6.13</td>\n",
       "      <td>low</td>\n",
       "    </tr>\n",
       "    <tr>\n",
       "      <th>10313</th>\n",
       "      <td>It's a race for the treasure in Koboldbande, w...</td>\n",
       "      <td>2014</td>\n",
       "      <td>2</td>\n",
       "      <td>4</td>\n",
       "      <td>20</td>\n",
       "      <td>20</td>\n",
       "      <td>20</td>\n",
       "      <td>4</td>\n",
       "      <td>[Children's Game, Fantasy, Maze]</td>\n",
       "      <td>[Cooperative Game, Network and Route Building,...</td>\n",
       "      <td>[Creatures: Dragons, Creatures: Goblins]</td>\n",
       "      <td>['Gina Manola']</td>\n",
       "      <td>[Doris Matthäus]</td>\n",
       "      <td>[AMIGO, G3, Gigamic, Lautapelit.fi, Piatnik]</td>\n",
       "      <td>6.44</td>\n",
       "      <td>low</td>\n",
       "    </tr>\n",
       "    <tr>\n",
       "      <th>2982</th>\n",
       "      <td>The London Underground is the world's first un...</td>\n",
       "      <td>2019</td>\n",
       "      <td>2</td>\n",
       "      <td>5</td>\n",
       "      <td>60</td>\n",
       "      <td>45</td>\n",
       "      <td>60</td>\n",
       "      <td>14</td>\n",
       "      <td>[Trains, Transportation]</td>\n",
       "      <td>[Action Points, Action Queue, Network and Rout...</td>\n",
       "      <td>[Cities: Berlin (Germany), Cities: London (Eng...</td>\n",
       "      <td>['Sebastian Bleasdale']</td>\n",
       "      <td>[Viktor Csete]</td>\n",
       "      <td>[LudiCreations]</td>\n",
       "      <td>7.29</td>\n",
       "      <td>high</td>\n",
       "    </tr>\n",
       "  </tbody>\n",
       "</table>\n",
       "</div>"
      ],
      "text/plain": [
       "                                             description  yearpublished  \\\n",
       "15682  A red storm is coming!&#10;&#10;From beneath t...           2011   \n",
       "11585  For What Remains is a skirmish-level series of...           2020   \n",
       "1100   From Eagle Games website:&#10;&#10;Age of Myth...           2003   \n",
       "10313  It's a race for the treasure in Koboldbande, w...           2014   \n",
       "2982   The London Underground is the world's first un...           2019   \n",
       "\n",
       "       minplayers  maxplayers  playingtime  minplaytime  maxplaytime  minage  \\\n",
       "15682           2           6           30           10           30      12   \n",
       "11585           1           2           45           30           45      10   \n",
       "1100            2           4          120          120          120      10   \n",
       "10313           2           4           20           20           20       4   \n",
       "2982            2           5           60           45           60      14   \n",
       "\n",
       "                                       boardgamecategory  \\\n",
       "15682                                         [Nautical]   \n",
       "11585                         [Science Fiction, Wargame]   \n",
       "1100   [Ancient, Civilization, Mythology, Video Game ...   \n",
       "10313                   [Children's Game, Fantasy, Maze]   \n",
       "2982                            [Trains, Transportation]   \n",
       "\n",
       "                                       boardgamemechanic  \\\n",
       "15682                      [Command Cards, Dice Rolling]   \n",
       "11585  [Chit-Pull System, Line of Sight, Modular Boar...   \n",
       "1100   [Campaign / Battle Card Driven, Dice Rolling, ...   \n",
       "10313  [Cooperative Game, Network and Route Building,...   \n",
       "2982   [Action Points, Action Queue, Network and Rout...   \n",
       "\n",
       "                                         boardgamefamily  \\\n",
       "15682        [Digital Implementations: Board Game Arena]   \n",
       "11585                         [Series: For What Remains]   \n",
       "1100   [Ancient: Egypt, Country: Egypt, Country: Gree...   \n",
       "10313           [Creatures: Dragons, Creatures: Goblins]   \n",
       "2982   [Cities: Berlin (Germany), Cities: London (Eng...   \n",
       "\n",
       "                                       boardgamedesigner  \\\n",
       "15682                               ['Christian Boutin']   \n",
       "11585  ['Paul Low', 'David Thompson (I)', 'Ricardo Ma...   \n",
       "1100                                    ['Glenn Drover']   \n",
       "10313                                    ['Gina Manola']   \n",
       "2982                             ['Sebastian Bleasdale']   \n",
       "\n",
       "                                         boardgameartist  \\\n",
       "15682                                 [Christian Boutin]   \n",
       "11585                 [Rick Hershey, David Thompson (I)]   \n",
       "1100   [Fast Forward Design, Gabriel Hernandez, Jacin...   \n",
       "10313                                   [Doris Matthäus]   \n",
       "2982                                      [Viktor Csete]   \n",
       "\n",
       "                                      boardgamepublisher  average rating  \n",
       "15682                                  [Exequor Studios]     3.59    low  \n",
       "11585                          [Dan Verssen Games (DVG)]     8.14   high  \n",
       "1100   [Beacon Multimedia S.A., Eagle-Gryphon Games, ...     6.13    low  \n",
       "10313       [AMIGO, G3, Gigamic, Lautapelit.fi, Piatnik]     6.44    low  \n",
       "2982                                     [LudiCreations]     7.29   high  "
      ]
     },
     "execution_count": 18,
     "metadata": {},
     "output_type": "execute_result"
    }
   ],
   "source": [
    "binarized_rating_df.head()"
   ]
  },
  {
   "cell_type": "markdown",
   "id": "2d83b7fc-07d3-44f5-adb7-fe36eb710073",
   "metadata": {},
   "source": [
    "<br>"
   ]
  },
  {
   "cell_type": "markdown",
   "id": "e98cc73d-a7d4-4979-b5f5-8d78c9a52714",
   "metadata": {},
   "source": [
    "To handle the features that have list values, we will apply `MultiLabelBinarizer` transformation on those columns to turn each unique value within the list into a separate binary column, where if the example had that value in the list the column will contain 1 (otherwise it will contain 0). This transformation will allow us to visualize the most frequently occurring values within those features, such as `boardgamecategory`, `boardgamemechanic`, etc."
   ]
  },
  {
   "cell_type": "code",
   "execution_count": 19,
   "id": "958e6cfd-fa15-4864-b682-f679214f6a41",
   "metadata": {},
   "outputs": [],
   "source": [
    "# Applying MultiLabelBinarizer and grouping the columns by rating to get the number of occurrences for each value, then \n",
    "# transforming the DataFrame into long format to plot\n",
    "mlb = MultiLabelBinarizer()\n",
    "category_trans = mlb.fit_transform(binarized_rating_df[\"boardgamecategory\"])\n",
    "category_count_df = pd.concat([pd.DataFrame(category_trans, columns=mlb.classes_), binarized_rating_df[\"rating\"].reset_index()], axis=1)\n",
    "top_10_categories = category_count_df.sum(numeric_only=True).sort_values(ascending=False)[1:11].index.tolist()\n",
    "cate = pd.concat([category_count_df[top_10_categories], category_count_df[\"rating\"]], axis=1)\n",
    "pd.melt(cate, id_vars=[\"Card Game\"])\n",
    "category_grouped = category_count_df.groupby(\"rating\").sum().T\n",
    "category_grouped[\"category\"] = category_grouped.index\n",
    "category_grouped.reset_index(drop=True)\n",
    "category_long = category_grouped.melt(\"category\")"
   ]
  },
  {
   "cell_type": "code",
   "execution_count": 20,
   "id": "c578bb54-af68-4762-9d34-474d63e28919",
   "metadata": {},
   "outputs": [
    {
     "data": {
      "application/vnd.vegalite.v4+json": {
       "$schema": "https://vega.github.io/schema/vega-lite/v4.17.0.json",
       "config": {
        "view": {
         "continuousHeight": 300,
         "continuousWidth": 400
        }
       },
       "data": {
        "url": "http://localhost:51455/c545600a267ba174d783eb69f4227189.json"
       },
       "encoding": {
        "color": {
         "field": "rating",
         "title": "Rating",
         "type": "nominal"
        },
        "column": {
         "field": "category",
         "header": {
          "labelOrient": "bottom",
          "title": null
         },
         "sort": [
          "Card Game",
          "Wargame",
          "Fantasy",
          "Science Fiction",
          "Fighting",
          "Dice",
          "World War II",
          "Economic",
          "Animals",
          "Adventure"
         ],
         "type": "nominal"
        },
        "x": {
         "axis": {
          "labels": false,
          "ticks": false,
          "title": null
         },
         "field": "rating",
         "type": "nominal"
        },
        "y": {
         "field": "value",
         "title": "Count",
         "type": "quantitative"
        }
       },
       "mark": "bar",
       "title": "Top 10 Categories and Their Rating Comparisons"
      },
      "image/png": "[encoded data removed]",
      "text/plain": [
       "<VegaLite 4 object>\n",
       "\n",
       "If you see this message, it means the renderer has not been properly enabled\n",
       "for the frontend that you are using. For more information, see\n",
       "https://altair-viz.github.io/user_guide/troubleshooting.html\n"
      ]
     },
     "execution_count": 20,
     "metadata": {},
     "output_type": "execute_result"
    }
   ],
   "source": [
    "alt.Chart(\n",
    "    category_long.query(\"category in @top_10_categories\"),\n",
    "    title = \"Top 10 Categories and Their Rating Comparisons\"\n",
    ").mark_bar().encode(\n",
    "    x = alt.X(\"rating\", axis=alt.Axis(title=None, labels=False, ticks=False)),\n",
    "    y = alt.Y(\"value\", title=\"Count\"),\n",
    "    column = alt.Column('category', header=alt.Header(title=None, labelOrient='bottom'), sort=top_10_categories),\n",
    "    color = alt.Color(\"rating\", title=\"Rating\")\n",
    ")"
   ]
  },
  {
   "cell_type": "markdown",
   "id": "d486a8b9-44ed-4762-9725-5d96cd35e9ef",
   "metadata": {},
   "source": [
    "**Figure 5: Bar plot comparing the number of occurrences of the top 10 most frequent boardgame categories**"
   ]
  },
  {
   "cell_type": "markdown",
   "id": "2a84d67b-1002-42c5-a143-d48eb87647e2",
   "metadata": {},
   "source": [
    "Looking at the bar chart, we can see that there does not appear to be any boardgame category that have significantly more high ratings than low ratings. Ratings lower than 7 are more common than those higher than 7. It appears that the \"Wargame\" category has equal number of games with high and low ratings."
   ]
  },
  {
   "cell_type": "markdown",
   "id": "21f0b64b-3316-40aa-9353-816cf0ab497e",
   "metadata": {},
   "source": [
    "<br>"
   ]
  },
  {
   "cell_type": "code",
   "execution_count": 21,
   "id": "0882f96b-6572-4cca-a4b6-7919a01163f4",
   "metadata": {},
   "outputs": [],
   "source": [
    "# Applying MultiLabelBinarizer and grouping the columns by rating to get the number of occurrences for each value, then \n",
    "# transforming the DataFrame into long format to plot\n",
    "mlb = MultiLabelBinarizer()\n",
    "mechanic_trans = mlb.fit_transform(binarized_rating_df[\"boardgamemechanic\"])\n",
    "mechanic_count_df = pd.concat([pd.DataFrame(mechanic_trans, columns=mlb.classes_), binarized_rating_df[\"rating\"].reset_index()], axis=1)\n",
    "top_10_mechanics = mechanic_count_df.sum(numeric_only=True).sort_values(ascending=False)[1:11].index.tolist()\n",
    "mechanic_grouped = mechanic_count_df.groupby(\"rating\").sum().T\n",
    "mechanic_grouped[\"mechanic\"] = mechanic_grouped.index\n",
    "mechanic_grouped.reset_index(drop=True)\n",
    "mechanic_long = mechanic_grouped.melt(\"mechanic\")"
   ]
  },
  {
   "cell_type": "code",
   "execution_count": 22,
   "id": "027f8f38-0508-4bef-a2c4-b2f7913ae044",
   "metadata": {},
   "outputs": [
    {
     "data": {
      "application/vnd.vegalite.v4+json": {
       "$schema": "https://vega.github.io/schema/vega-lite/v4.17.0.json",
       "config": {
        "view": {
         "continuousHeight": 300,
         "continuousWidth": 400
        }
       },
       "data": {
        "url": "http://localhost:51455/2f73f9aa3301884366ce0aa5bb3852f4.json"
       },
       "encoding": {
        "color": {
         "field": "rating",
         "title": "Rating",
         "type": "nominal"
        },
        "column": {
         "field": "mechanic",
         "header": {
          "labelAnchor": "end",
          "labelAngle": 330,
          "labelOrient": "bottom",
          "title": null
         },
         "sort": [
          "Dice Rolling",
          "Hand Management",
          "Variable Player Powers",
          "Set Collection",
          "Hexagon Grid",
          "Simulation",
          "Card Drafting",
          "Grid Movement",
          "Modular Board",
          "Area Majority / Influence"
         ],
         "type": "nominal"
        },
        "x": {
         "axis": {
          "labels": false,
          "ticks": false,
          "title": null
         },
         "field": "rating",
         "type": "nominal"
        },
        "y": {
         "field": "value",
         "title": "Count",
         "type": "quantitative"
        }
       },
       "mark": "bar",
       "title": "Top 10 Mechanics and Their Rating Comparisons"
      },
      "image/png": "[encoded data removed]",
      "text/plain": [
       "<VegaLite 4 object>\n",
       "\n",
       "If you see this message, it means the renderer has not been properly enabled\n",
       "for the frontend that you are using. For more information, see\n",
       "https://altair-viz.github.io/user_guide/troubleshooting.html\n"
      ]
     },
     "execution_count": 22,
     "metadata": {},
     "output_type": "execute_result"
    }
   ],
   "source": [
    "alt.Chart(\n",
    "    mechanic_long.query(\"mechanic in @top_10_mechanics\"),\n",
    "    title = \"Top 10 Mechanics and Their Rating Comparisons\"\n",
    ").mark_bar().encode(\n",
    "    alt.X(\"rating\", axis=alt.Axis(title=None, labels=False, ticks=False)),\n",
    "    alt.Y(\"value\", title=\"Count\"),\n",
    "    column = alt.Column('mechanic', header=alt.Header(title=None, labelOrient='bottom', labelAngle=330, labelAnchor=\"end\"), sort=top_10_mechanics),\n",
    "    color = alt.Color(\"rating\", title=\"Rating\")\n",
    ")"
   ]
  },
  {
   "cell_type": "markdown",
   "id": "42b6c897-a204-40a3-8377-cc4777d09ff1",
   "metadata": {},
   "source": [
    "**Figure 6: Bar plot comparing the number of occurrences of the top 10 most frequent boardgame mechanics**"
   ]
  },
  {
   "cell_type": "markdown",
   "id": "29c505b8-94bb-4d97-8030-c796ca715c37",
   "metadata": {},
   "source": [
    "Looking at the bar chart, we can see that again ratings lower than 7 are more common and there does not appear to be a boardgame mechanic that correlates to higher ratings. However, it appears that the boardgame mechanic \"Variable Player Powers\" have near equal number of games with high and low ratings."
   ]
  },
  {
   "cell_type": "markdown",
   "id": "e8cf5f95-6ee0-46fc-90f5-90ac96ed654a",
   "metadata": {},
   "source": [
    "<br>"
   ]
  },
  {
   "cell_type": "code",
   "execution_count": 23,
   "id": "e875722c-5406-4441-8d8b-c6520e160e11",
   "metadata": {},
   "outputs": [],
   "source": [
    "# Applying MultiLabelBinarizer and grouping the columns by rating to get the number of occurrences for each value, then \n",
    "# transforming the DataFrame into long format to plot\n",
    "mlb = MultiLabelBinarizer()\n",
    "family_trans = mlb.fit_transform(binarized_rating_df[\"boardgamefamily\"])\n",
    "family_count_df = pd.concat([pd.DataFrame(family_trans, columns=mlb.classes_), binarized_rating_df[\"rating\"].reset_index()], axis=1)\n",
    "top_10_families = family_count_df.sum(numeric_only=True).sort_values(ascending=False)[1:11].index.tolist()\n",
    "family_grouped = family_count_df.groupby(\"rating\").sum().T\n",
    "family_grouped[\"family\"] = family_grouped.index\n",
    "family_grouped.reset_index(drop=True)\n",
    "family_long = family_grouped.melt(\"family\")"
   ]
  },
  {
   "cell_type": "code",
   "execution_count": 24,
   "id": "a4e9a9cf-e1c7-441f-8e1a-73c0d5f0d476",
   "metadata": {},
   "outputs": [
    {
     "data": {
      "application/vnd.vegalite.v4+json": {
       "$schema": "https://vega.github.io/schema/vega-lite/v4.17.0.json",
       "config": {
        "view": {
         "continuousHeight": 300,
         "continuousWidth": 400
        }
       },
       "data": {
        "url": "http://localhost:51455/45c85646b9354ee0f3aad4c198e5bd91.json"
       },
       "encoding": {
        "color": {
         "field": "rating",
         "title": "Rating",
         "type": "nominal"
        },
        "column": {
         "field": "family",
         "header": {
          "labelAnchor": "end",
          "labelAngle": 330,
          "labelOrient": "bottom",
          "title": null
         },
         "sort": [
          "Crowdfunding: Kickstarter",
          "Players: Two Player Only Games",
          "Players: Games with Solitaire Rules",
          "Admin: Better Description Needed!",
          "Components: Miniatures",
          "Misc: LongPack Games",
          "Digital Implementations: Board Game Arena",
          "Country: USA",
          "Players: Wargames with Solitaire Rules",
          "Country: France"
         ],
         "type": "nominal"
        },
        "x": {
         "axis": {
          "labels": false,
          "ticks": false,
          "title": null
         },
         "field": "rating",
         "type": "nominal"
        },
        "y": {
         "field": "value",
         "title": "Count",
         "type": "quantitative"
        }
       },
       "mark": "bar",
       "title": "Top 10 Boardgame Families and Their Rating Comparisons"
      },
      "image/png": "[encoded data removed]",
      "text/plain": [
       "<VegaLite 4 object>\n",
       "\n",
       "If you see this message, it means the renderer has not been properly enabled\n",
       "for the frontend that you are using. For more information, see\n",
       "https://altair-viz.github.io/user_guide/troubleshooting.html\n"
      ]
     },
     "execution_count": 24,
     "metadata": {},
     "output_type": "execute_result"
    }
   ],
   "source": [
    "alt.Chart(\n",
    "    family_long.query(\"family in @top_10_families\"),\n",
    "    title = \"Top 10 Boardgame Families and Their Rating Comparisons\"\n",
    ").mark_bar().encode(\n",
    "    alt.X(\"rating\", axis=alt.Axis(title=None, labels=False, ticks=False)),\n",
    "    alt.Y(\"value\", title=\"Count\"),\n",
    "    column = alt.Column('family', header=alt.Header(title=None, labelOrient='bottom', labelAngle=330, labelAnchor=\"end\"), sort=top_10_families),\n",
    "    color = alt.Color(\"rating\", title=\"Rating\")\n",
    ")"
   ]
  },
  {
   "cell_type": "markdown",
   "id": "6912dd22-673d-4a30-b9cd-0d71846f4324",
   "metadata": {},
   "source": [
    "**Figure 7: Bar plot comparing the number of occurrences of the top 10 most frequent boardgame families**"
   ]
  },
  {
   "cell_type": "markdown",
   "id": "e916a884-885f-4a27-974b-599964bd3ad7",
   "metadata": {},
   "source": [
    "Looking at the bar chart, we can see that the boardgame family \"Players: Games with Solitaire Rules\" and \"Components: Miniatures\" appear to have more games with high ratings than low ratings. However, we also see that there appears to be a placeholder value for the boardgame family, as one of the most frequently occurring value is \"Admin: Better Description Needed!\"."
   ]
  },
  {
   "cell_type": "markdown",
   "id": "3ac35f97-c8d4-4a7b-8d23-710e6cfb3717",
   "metadata": {},
   "source": [
    "<br>"
   ]
  },
  {
   "cell_type": "markdown",
   "id": "25648dcc-ef6a-47a2-8885-facb6998273b",
   "metadata": {},
   "source": [
    "**References**  \n",
    "BoardGameGeek, LLC. 2022. \"Board Games\". Retrieved November 16, 2022 from github.com/rfordatascience/tidytuesday/tree/master/data/2022/2022-01-25."
   ]
  },
  {
   "cell_type": "code",
   "execution_count": null,
   "id": "09120429-cee0-4ddc-a47c-92ddf0f3195f",
   "metadata": {},
   "outputs": [],
   "source": []
  }
 ],
 "metadata": {
  "kernelspec": {
   "display_name": "Python [conda env:522-group-project]",
   "language": "python",
   "name": "conda-env-522-group-project-py"
  },
  "language_info": {
   "codemirror_mode": {
    "name": "ipython",
    "version": 3
   },
   "file_extension": ".py",
   "mimetype": "text/x-python",
   "name": "python",
   "nbconvert_exporter": "python",
   "pygments_lexer": "ipython3",
   "version": "3.10.8"
  }
 },
 "nbformat": 4,
 "nbformat_minor": 5
}
